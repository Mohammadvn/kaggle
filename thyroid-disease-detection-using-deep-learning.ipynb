{
 "cells": [
  {
   "cell_type": "code",
   "execution_count": 1,
   "metadata": {
    "execution": {
     "iopub.execute_input": "2023-02-11T00:49:43.920322Z",
     "iopub.status.busy": "2023-02-11T00:49:43.919252Z",
     "iopub.status.idle": "2023-02-11T00:49:45.537861Z",
     "shell.execute_reply": "2023-02-11T00:49:45.536484Z",
     "shell.execute_reply.started": "2021-12-15T11:03:37.181275Z"
    },
    "papermill": {
     "duration": 1.685244,
     "end_time": "2023-02-11T00:49:45.538024",
     "exception": false,
     "start_time": "2023-02-11T00:49:43.852780",
     "status": "completed"
    },
    "tags": []
   },
   "outputs": [],
   "source": [
    "import numpy as np\n",
    "import pandas as pd\n",
    "import matplotlib.pyplot as plt\n",
    "import statsmodels.api as sm\n",
    "import seaborn as sns\n",
    "\n",
    "%matplotlib inline\n",
    "sns.set(rc={'figure.figsize': [20, 20]}, font_scale=1.4)"
   ]
  },
  {
   "cell_type": "code",
   "execution_count": 2,
   "metadata": {
    "execution": {
     "iopub.execute_input": "2023-02-11T00:49:45.689859Z",
     "iopub.status.busy": "2023-02-11T00:49:45.689148Z",
     "iopub.status.idle": "2023-02-11T00:49:45.766003Z",
     "shell.execute_reply": "2023-02-11T00:49:45.765407Z",
     "shell.execute_reply.started": "2021-12-15T11:02:19.940636Z"
    },
    "papermill": {
     "duration": 0.163612,
     "end_time": "2023-02-11T00:49:45.766248",
     "exception": false,
     "start_time": "2023-02-11T00:49:45.602636",
     "status": "completed"
    },
    "tags": []
   },
   "outputs": [
    {
     "data": {
      "text/plain": "      age sex on_thyroxine query_on_thyroxine on_antithyroid_meds sick  \\\n0      29   F            f                  f                   f    f   \n1      29   F            f                  f                   f    f   \n2      41   F            f                  f                   f    f   \n3      36   F            f                  f                   f    f   \n4      32   F            f                  f                   f    f   \n...   ...  ..          ...                ...                 ...  ...   \n9167   56   M            f                  f                   f    f   \n9168   22   M            f                  f                   f    f   \n9169   69   M            f                  f                   f    f   \n9170   47   F            f                  f                   f    f   \n9171   31   M            f                  f                   f    f   \n\n     pregnant thyroid_surgery I131_treatment query_hypothyroid  ...    TT4  \\\n0           f               f              f                 t  ...    NaN   \n1           f               f              f                 f  ...  128.0   \n2           f               f              f                 f  ...    NaN   \n3           f               f              f                 f  ...    NaN   \n4           f               f              f                 f  ...    NaN   \n...       ...             ...            ...               ...  ...    ...   \n9167        f               f              f                 f  ...   64.0   \n9168        f               f              f                 f  ...   91.0   \n9169        f               f              f                 f  ...  113.0   \n9170        f               f              f                 f  ...   75.0   \n9171        f               f              f                 t  ...   66.0   \n\n     T4U_measured   T4U FTI_measured   FTI TBG_measured   TBG  \\\n0               f   NaN            f   NaN            f   NaN   \n1               f   NaN            f   NaN            f   NaN   \n2               f   NaN            f   NaN            t  11.0   \n3               f   NaN            f   NaN            t  26.0   \n4               f   NaN            f   NaN            t  36.0   \n...           ...   ...          ...   ...          ...   ...   \n9167            t  0.83            t  77.0            f   NaN   \n9168            t  0.92            t  99.0            f   NaN   \n9169            t  1.27            t  89.0            f   NaN   \n9170            t  0.85            t  88.0            f   NaN   \n9171            t  1.02            t  65.0            f   NaN   \n\n      referral_source target  patient_id  \n0               other      -   840801013  \n1               other      -   840801014  \n2               other      -   840801042  \n3               other      -   840803046  \n4               other      S   840803047  \n...               ...    ...         ...  \n9167              SVI      -   870119022  \n9168              SVI      -   870119023  \n9169              SVI      I   870119025  \n9170            other      -   870119027  \n9171            other      -   870119035  \n\n[9172 rows x 31 columns]",
      "text/html": "<div>\n<style scoped>\n    .dataframe tbody tr th:only-of-type {\n        vertical-align: middle;\n    }\n\n    .dataframe tbody tr th {\n        vertical-align: top;\n    }\n\n    .dataframe thead th {\n        text-align: right;\n    }\n</style>\n<table border=\"1\" class=\"dataframe\">\n  <thead>\n    <tr style=\"text-align: right;\">\n      <th></th>\n      <th>age</th>\n      <th>sex</th>\n      <th>on_thyroxine</th>\n      <th>query_on_thyroxine</th>\n      <th>on_antithyroid_meds</th>\n      <th>sick</th>\n      <th>pregnant</th>\n      <th>thyroid_surgery</th>\n      <th>I131_treatment</th>\n      <th>query_hypothyroid</th>\n      <th>...</th>\n      <th>TT4</th>\n      <th>T4U_measured</th>\n      <th>T4U</th>\n      <th>FTI_measured</th>\n      <th>FTI</th>\n      <th>TBG_measured</th>\n      <th>TBG</th>\n      <th>referral_source</th>\n      <th>target</th>\n      <th>patient_id</th>\n    </tr>\n  </thead>\n  <tbody>\n    <tr>\n      <th>0</th>\n      <td>29</td>\n      <td>F</td>\n      <td>f</td>\n      <td>f</td>\n      <td>f</td>\n      <td>f</td>\n      <td>f</td>\n      <td>f</td>\n      <td>f</td>\n      <td>t</td>\n      <td>...</td>\n      <td>NaN</td>\n      <td>f</td>\n      <td>NaN</td>\n      <td>f</td>\n      <td>NaN</td>\n      <td>f</td>\n      <td>NaN</td>\n      <td>other</td>\n      <td>-</td>\n      <td>840801013</td>\n    </tr>\n    <tr>\n      <th>1</th>\n      <td>29</td>\n      <td>F</td>\n      <td>f</td>\n      <td>f</td>\n      <td>f</td>\n      <td>f</td>\n      <td>f</td>\n      <td>f</td>\n      <td>f</td>\n      <td>f</td>\n      <td>...</td>\n      <td>128.0</td>\n      <td>f</td>\n      <td>NaN</td>\n      <td>f</td>\n      <td>NaN</td>\n      <td>f</td>\n      <td>NaN</td>\n      <td>other</td>\n      <td>-</td>\n      <td>840801014</td>\n    </tr>\n    <tr>\n      <th>2</th>\n      <td>41</td>\n      <td>F</td>\n      <td>f</td>\n      <td>f</td>\n      <td>f</td>\n      <td>f</td>\n      <td>f</td>\n      <td>f</td>\n      <td>f</td>\n      <td>f</td>\n      <td>...</td>\n      <td>NaN</td>\n      <td>f</td>\n      <td>NaN</td>\n      <td>f</td>\n      <td>NaN</td>\n      <td>t</td>\n      <td>11.0</td>\n      <td>other</td>\n      <td>-</td>\n      <td>840801042</td>\n    </tr>\n    <tr>\n      <th>3</th>\n      <td>36</td>\n      <td>F</td>\n      <td>f</td>\n      <td>f</td>\n      <td>f</td>\n      <td>f</td>\n      <td>f</td>\n      <td>f</td>\n      <td>f</td>\n      <td>f</td>\n      <td>...</td>\n      <td>NaN</td>\n      <td>f</td>\n      <td>NaN</td>\n      <td>f</td>\n      <td>NaN</td>\n      <td>t</td>\n      <td>26.0</td>\n      <td>other</td>\n      <td>-</td>\n      <td>840803046</td>\n    </tr>\n    <tr>\n      <th>4</th>\n      <td>32</td>\n      <td>F</td>\n      <td>f</td>\n      <td>f</td>\n      <td>f</td>\n      <td>f</td>\n      <td>f</td>\n      <td>f</td>\n      <td>f</td>\n      <td>f</td>\n      <td>...</td>\n      <td>NaN</td>\n      <td>f</td>\n      <td>NaN</td>\n      <td>f</td>\n      <td>NaN</td>\n      <td>t</td>\n      <td>36.0</td>\n      <td>other</td>\n      <td>S</td>\n      <td>840803047</td>\n    </tr>\n    <tr>\n      <th>...</th>\n      <td>...</td>\n      <td>...</td>\n      <td>...</td>\n      <td>...</td>\n      <td>...</td>\n      <td>...</td>\n      <td>...</td>\n      <td>...</td>\n      <td>...</td>\n      <td>...</td>\n      <td>...</td>\n      <td>...</td>\n      <td>...</td>\n      <td>...</td>\n      <td>...</td>\n      <td>...</td>\n      <td>...</td>\n      <td>...</td>\n      <td>...</td>\n      <td>...</td>\n      <td>...</td>\n    </tr>\n    <tr>\n      <th>9167</th>\n      <td>56</td>\n      <td>M</td>\n      <td>f</td>\n      <td>f</td>\n      <td>f</td>\n      <td>f</td>\n      <td>f</td>\n      <td>f</td>\n      <td>f</td>\n      <td>f</td>\n      <td>...</td>\n      <td>64.0</td>\n      <td>t</td>\n      <td>0.83</td>\n      <td>t</td>\n      <td>77.0</td>\n      <td>f</td>\n      <td>NaN</td>\n      <td>SVI</td>\n      <td>-</td>\n      <td>870119022</td>\n    </tr>\n    <tr>\n      <th>9168</th>\n      <td>22</td>\n      <td>M</td>\n      <td>f</td>\n      <td>f</td>\n      <td>f</td>\n      <td>f</td>\n      <td>f</td>\n      <td>f</td>\n      <td>f</td>\n      <td>f</td>\n      <td>...</td>\n      <td>91.0</td>\n      <td>t</td>\n      <td>0.92</td>\n      <td>t</td>\n      <td>99.0</td>\n      <td>f</td>\n      <td>NaN</td>\n      <td>SVI</td>\n      <td>-</td>\n      <td>870119023</td>\n    </tr>\n    <tr>\n      <th>9169</th>\n      <td>69</td>\n      <td>M</td>\n      <td>f</td>\n      <td>f</td>\n      <td>f</td>\n      <td>f</td>\n      <td>f</td>\n      <td>f</td>\n      <td>f</td>\n      <td>f</td>\n      <td>...</td>\n      <td>113.0</td>\n      <td>t</td>\n      <td>1.27</td>\n      <td>t</td>\n      <td>89.0</td>\n      <td>f</td>\n      <td>NaN</td>\n      <td>SVI</td>\n      <td>I</td>\n      <td>870119025</td>\n    </tr>\n    <tr>\n      <th>9170</th>\n      <td>47</td>\n      <td>F</td>\n      <td>f</td>\n      <td>f</td>\n      <td>f</td>\n      <td>f</td>\n      <td>f</td>\n      <td>f</td>\n      <td>f</td>\n      <td>f</td>\n      <td>...</td>\n      <td>75.0</td>\n      <td>t</td>\n      <td>0.85</td>\n      <td>t</td>\n      <td>88.0</td>\n      <td>f</td>\n      <td>NaN</td>\n      <td>other</td>\n      <td>-</td>\n      <td>870119027</td>\n    </tr>\n    <tr>\n      <th>9171</th>\n      <td>31</td>\n      <td>M</td>\n      <td>f</td>\n      <td>f</td>\n      <td>f</td>\n      <td>f</td>\n      <td>f</td>\n      <td>f</td>\n      <td>f</td>\n      <td>t</td>\n      <td>...</td>\n      <td>66.0</td>\n      <td>t</td>\n      <td>1.02</td>\n      <td>t</td>\n      <td>65.0</td>\n      <td>f</td>\n      <td>NaN</td>\n      <td>other</td>\n      <td>-</td>\n      <td>870119035</td>\n    </tr>\n  </tbody>\n</table>\n<p>9172 rows × 31 columns</p>\n</div>"
     },
     "execution_count": 2,
     "metadata": {},
     "output_type": "execute_result"
    }
   ],
   "source": [
    "df = pd.read_csv('data/thyroidDF.csv')\n",
    "df"
   ]
  },
  {
   "cell_type": "code",
   "execution_count": 3,
   "metadata": {
    "execution": {
     "iopub.execute_input": "2023-02-11T00:49:45.912758Z",
     "iopub.status.busy": "2023-02-11T00:49:45.911988Z",
     "iopub.status.idle": "2023-02-11T00:49:45.923253Z",
     "shell.execute_reply": "2023-02-11T00:49:45.923814Z",
     "shell.execute_reply.started": "2021-12-15T11:02:20.001723Z"
    },
    "papermill": {
     "duration": 0.093272,
     "end_time": "2023-02-11T00:49:45.923972",
     "exception": false,
     "start_time": "2023-02-11T00:49:45.830700",
     "status": "completed"
    },
    "tags": []
   },
   "outputs": [
    {
     "data": {
      "text/plain": "   age sex on_thyroxine query_on_thyroxine on_antithyroid_meds sick pregnant  \\\n0   29   F            f                  f                   f    f        f   \n1   29   F            f                  f                   f    f        f   \n2   41   F            f                  f                   f    f        f   \n3   36   F            f                  f                   f    f        f   \n4   32   F            f                  f                   f    f        f   \n\n  thyroid_surgery I131_treatment query_hypothyroid  ...    TT4 T4U_measured  \\\n0               f              f                 t  ...    NaN            f   \n1               f              f                 f  ...  128.0            f   \n2               f              f                 f  ...    NaN            f   \n3               f              f                 f  ...    NaN            f   \n4               f              f                 f  ...    NaN            f   \n\n  T4U FTI_measured FTI TBG_measured   TBG  referral_source target  patient_id  \n0 NaN            f NaN            f   NaN            other      -   840801013  \n1 NaN            f NaN            f   NaN            other      -   840801014  \n2 NaN            f NaN            t  11.0            other      -   840801042  \n3 NaN            f NaN            t  26.0            other      -   840803046  \n4 NaN            f NaN            t  36.0            other      S   840803047  \n\n[5 rows x 31 columns]",
      "text/html": "<div>\n<style scoped>\n    .dataframe tbody tr th:only-of-type {\n        vertical-align: middle;\n    }\n\n    .dataframe tbody tr th {\n        vertical-align: top;\n    }\n\n    .dataframe thead th {\n        text-align: right;\n    }\n</style>\n<table border=\"1\" class=\"dataframe\">\n  <thead>\n    <tr style=\"text-align: right;\">\n      <th></th>\n      <th>age</th>\n      <th>sex</th>\n      <th>on_thyroxine</th>\n      <th>query_on_thyroxine</th>\n      <th>on_antithyroid_meds</th>\n      <th>sick</th>\n      <th>pregnant</th>\n      <th>thyroid_surgery</th>\n      <th>I131_treatment</th>\n      <th>query_hypothyroid</th>\n      <th>...</th>\n      <th>TT4</th>\n      <th>T4U_measured</th>\n      <th>T4U</th>\n      <th>FTI_measured</th>\n      <th>FTI</th>\n      <th>TBG_measured</th>\n      <th>TBG</th>\n      <th>referral_source</th>\n      <th>target</th>\n      <th>patient_id</th>\n    </tr>\n  </thead>\n  <tbody>\n    <tr>\n      <th>0</th>\n      <td>29</td>\n      <td>F</td>\n      <td>f</td>\n      <td>f</td>\n      <td>f</td>\n      <td>f</td>\n      <td>f</td>\n      <td>f</td>\n      <td>f</td>\n      <td>t</td>\n      <td>...</td>\n      <td>NaN</td>\n      <td>f</td>\n      <td>NaN</td>\n      <td>f</td>\n      <td>NaN</td>\n      <td>f</td>\n      <td>NaN</td>\n      <td>other</td>\n      <td>-</td>\n      <td>840801013</td>\n    </tr>\n    <tr>\n      <th>1</th>\n      <td>29</td>\n      <td>F</td>\n      <td>f</td>\n      <td>f</td>\n      <td>f</td>\n      <td>f</td>\n      <td>f</td>\n      <td>f</td>\n      <td>f</td>\n      <td>f</td>\n      <td>...</td>\n      <td>128.0</td>\n      <td>f</td>\n      <td>NaN</td>\n      <td>f</td>\n      <td>NaN</td>\n      <td>f</td>\n      <td>NaN</td>\n      <td>other</td>\n      <td>-</td>\n      <td>840801014</td>\n    </tr>\n    <tr>\n      <th>2</th>\n      <td>41</td>\n      <td>F</td>\n      <td>f</td>\n      <td>f</td>\n      <td>f</td>\n      <td>f</td>\n      <td>f</td>\n      <td>f</td>\n      <td>f</td>\n      <td>f</td>\n      <td>...</td>\n      <td>NaN</td>\n      <td>f</td>\n      <td>NaN</td>\n      <td>f</td>\n      <td>NaN</td>\n      <td>t</td>\n      <td>11.0</td>\n      <td>other</td>\n      <td>-</td>\n      <td>840801042</td>\n    </tr>\n    <tr>\n      <th>3</th>\n      <td>36</td>\n      <td>F</td>\n      <td>f</td>\n      <td>f</td>\n      <td>f</td>\n      <td>f</td>\n      <td>f</td>\n      <td>f</td>\n      <td>f</td>\n      <td>f</td>\n      <td>...</td>\n      <td>NaN</td>\n      <td>f</td>\n      <td>NaN</td>\n      <td>f</td>\n      <td>NaN</td>\n      <td>t</td>\n      <td>26.0</td>\n      <td>other</td>\n      <td>-</td>\n      <td>840803046</td>\n    </tr>\n    <tr>\n      <th>4</th>\n      <td>32</td>\n      <td>F</td>\n      <td>f</td>\n      <td>f</td>\n      <td>f</td>\n      <td>f</td>\n      <td>f</td>\n      <td>f</td>\n      <td>f</td>\n      <td>f</td>\n      <td>...</td>\n      <td>NaN</td>\n      <td>f</td>\n      <td>NaN</td>\n      <td>f</td>\n      <td>NaN</td>\n      <td>t</td>\n      <td>36.0</td>\n      <td>other</td>\n      <td>S</td>\n      <td>840803047</td>\n    </tr>\n  </tbody>\n</table>\n<p>5 rows × 31 columns</p>\n</div>"
     },
     "execution_count": 3,
     "metadata": {},
     "output_type": "execute_result"
    }
   ],
   "source": [
    "df.head()"
   ]
  },
  {
   "cell_type": "code",
   "execution_count": 4,
   "metadata": {
    "execution": {
     "iopub.execute_input": "2023-02-11T00:49:46.056730Z",
     "iopub.status.busy": "2023-02-11T00:49:46.056023Z",
     "iopub.status.idle": "2023-02-11T00:49:46.163231Z",
     "shell.execute_reply": "2023-02-11T00:49:46.162501Z",
     "shell.execute_reply.started": "2021-12-15T11:02:20.031771Z"
    },
    "papermill": {
     "duration": 0.174254,
     "end_time": "2023-02-11T00:49:46.163366",
     "exception": false,
     "start_time": "2023-02-11T00:49:45.989112",
     "status": "completed"
    },
    "tags": []
   },
   "outputs": [
    {
     "data": {
      "text/plain": "             count          mean           std           min           25%  \\\nage         9172.0  7.355582e+01  1.183977e+03  1.000000e+00  3.700000e+01   \nTSH         8330.0  5.218403e+00  2.418401e+01  5.000000e-03  4.600000e-01   \nT3          6568.0  1.970629e+00  8.875788e-01  5.000000e-02  1.500000e+00   \nTT4         8730.0  1.087003e+02  3.752267e+01  2.000000e+00  8.700000e+01   \nT4U         8363.0  9.760557e-01  2.003604e-01  1.700000e-01  8.600000e-01   \nFTI         8370.0  1.136407e+02  4.155165e+01  1.400000e+00  9.300000e+01   \nTBG          349.0  2.987006e+01  2.108050e+01  1.000000e-01  2.100000e+01   \npatient_id  9172.0  8.529473e+08  7.581969e+06  8.408010e+08  8.504090e+08   \n\n                     50%           75%           max  \nage         5.500000e+01  6.800000e+01  6.552600e+04  \nTSH         1.400000e+00  2.700000e+00  5.300000e+02  \nT3          1.900000e+00  2.300000e+00  1.800000e+01  \nTT4         1.040000e+02  1.260000e+02  6.000000e+02  \nT4U         9.600000e-01  1.065000e+00  2.330000e+00  \nFTI         1.090000e+02  1.280000e+02  8.810000e+02  \nTBG         2.600000e+01  3.100000e+01  2.000000e+02  \npatient_id  8.510040e+08  8.607110e+08  8.701190e+08  ",
      "text/html": "<div>\n<style scoped>\n    .dataframe tbody tr th:only-of-type {\n        vertical-align: middle;\n    }\n\n    .dataframe tbody tr th {\n        vertical-align: top;\n    }\n\n    .dataframe thead th {\n        text-align: right;\n    }\n</style>\n<table border=\"1\" class=\"dataframe\">\n  <thead>\n    <tr style=\"text-align: right;\">\n      <th></th>\n      <th>count</th>\n      <th>mean</th>\n      <th>std</th>\n      <th>min</th>\n      <th>25%</th>\n      <th>50%</th>\n      <th>75%</th>\n      <th>max</th>\n    </tr>\n  </thead>\n  <tbody>\n    <tr>\n      <th>age</th>\n      <td>9172.0</td>\n      <td>7.355582e+01</td>\n      <td>1.183977e+03</td>\n      <td>1.000000e+00</td>\n      <td>3.700000e+01</td>\n      <td>5.500000e+01</td>\n      <td>6.800000e+01</td>\n      <td>6.552600e+04</td>\n    </tr>\n    <tr>\n      <th>TSH</th>\n      <td>8330.0</td>\n      <td>5.218403e+00</td>\n      <td>2.418401e+01</td>\n      <td>5.000000e-03</td>\n      <td>4.600000e-01</td>\n      <td>1.400000e+00</td>\n      <td>2.700000e+00</td>\n      <td>5.300000e+02</td>\n    </tr>\n    <tr>\n      <th>T3</th>\n      <td>6568.0</td>\n      <td>1.970629e+00</td>\n      <td>8.875788e-01</td>\n      <td>5.000000e-02</td>\n      <td>1.500000e+00</td>\n      <td>1.900000e+00</td>\n      <td>2.300000e+00</td>\n      <td>1.800000e+01</td>\n    </tr>\n    <tr>\n      <th>TT4</th>\n      <td>8730.0</td>\n      <td>1.087003e+02</td>\n      <td>3.752267e+01</td>\n      <td>2.000000e+00</td>\n      <td>8.700000e+01</td>\n      <td>1.040000e+02</td>\n      <td>1.260000e+02</td>\n      <td>6.000000e+02</td>\n    </tr>\n    <tr>\n      <th>T4U</th>\n      <td>8363.0</td>\n      <td>9.760557e-01</td>\n      <td>2.003604e-01</td>\n      <td>1.700000e-01</td>\n      <td>8.600000e-01</td>\n      <td>9.600000e-01</td>\n      <td>1.065000e+00</td>\n      <td>2.330000e+00</td>\n    </tr>\n    <tr>\n      <th>FTI</th>\n      <td>8370.0</td>\n      <td>1.136407e+02</td>\n      <td>4.155165e+01</td>\n      <td>1.400000e+00</td>\n      <td>9.300000e+01</td>\n      <td>1.090000e+02</td>\n      <td>1.280000e+02</td>\n      <td>8.810000e+02</td>\n    </tr>\n    <tr>\n      <th>TBG</th>\n      <td>349.0</td>\n      <td>2.987006e+01</td>\n      <td>2.108050e+01</td>\n      <td>1.000000e-01</td>\n      <td>2.100000e+01</td>\n      <td>2.600000e+01</td>\n      <td>3.100000e+01</td>\n      <td>2.000000e+02</td>\n    </tr>\n    <tr>\n      <th>patient_id</th>\n      <td>9172.0</td>\n      <td>8.529473e+08</td>\n      <td>7.581969e+06</td>\n      <td>8.408010e+08</td>\n      <td>8.504090e+08</td>\n      <td>8.510040e+08</td>\n      <td>8.607110e+08</td>\n      <td>8.701190e+08</td>\n    </tr>\n  </tbody>\n</table>\n</div>"
     },
     "execution_count": 4,
     "metadata": {},
     "output_type": "execute_result"
    }
   ],
   "source": [
    "df.describe().T"
   ]
  },
  {
   "cell_type": "code",
   "execution_count": 5,
   "metadata": {
    "execution": {
     "iopub.execute_input": "2023-02-11T00:49:46.307146Z",
     "iopub.status.busy": "2023-02-11T00:49:46.306403Z",
     "iopub.status.idle": "2023-02-11T00:49:46.318695Z",
     "shell.execute_reply": "2023-02-11T00:49:46.319265Z",
     "shell.execute_reply.started": "2021-12-15T11:02:20.125928Z"
    },
    "papermill": {
     "duration": 0.090142,
     "end_time": "2023-02-11T00:49:46.319422",
     "exception": false,
     "start_time": "2023-02-11T00:49:46.229280",
     "status": "completed"
    },
    "tags": []
   },
   "outputs": [
    {
     "name": "stdout",
     "output_type": "stream",
     "text": [
      "<class 'pandas.core.frame.DataFrame'>\n",
      "RangeIndex: 9172 entries, 0 to 9171\n",
      "Data columns (total 31 columns):\n",
      " #   Column               Non-Null Count  Dtype  \n",
      "---  ------               --------------  -----  \n",
      " 0   age                  9172 non-null   int64  \n",
      " 1   sex                  8865 non-null   object \n",
      " 2   on_thyroxine         9172 non-null   object \n",
      " 3   query_on_thyroxine   9172 non-null   object \n",
      " 4   on_antithyroid_meds  9172 non-null   object \n",
      " 5   sick                 9172 non-null   object \n",
      " 6   pregnant             9172 non-null   object \n",
      " 7   thyroid_surgery      9172 non-null   object \n",
      " 8   I131_treatment       9172 non-null   object \n",
      " 9   query_hypothyroid    9172 non-null   object \n",
      " 10  query_hyperthyroid   9172 non-null   object \n",
      " 11  lithium              9172 non-null   object \n",
      " 12  goitre               9172 non-null   object \n",
      " 13  tumor                9172 non-null   object \n",
      " 14  hypopituitary        9172 non-null   object \n",
      " 15  psych                9172 non-null   object \n",
      " 16  TSH_measured         9172 non-null   object \n",
      " 17  TSH                  8330 non-null   float64\n",
      " 18  T3_measured          9172 non-null   object \n",
      " 19  T3                   6568 non-null   float64\n",
      " 20  TT4_measured         9172 non-null   object \n",
      " 21  TT4                  8730 non-null   float64\n",
      " 22  T4U_measured         9172 non-null   object \n",
      " 23  T4U                  8363 non-null   float64\n",
      " 24  FTI_measured         9172 non-null   object \n",
      " 25  FTI                  8370 non-null   float64\n",
      " 26  TBG_measured         9172 non-null   object \n",
      " 27  TBG                  349 non-null    float64\n",
      " 28  referral_source      9172 non-null   object \n",
      " 29  target               9172 non-null   object \n",
      " 30  patient_id           9172 non-null   int64  \n",
      "dtypes: float64(6), int64(2), object(23)\n",
      "memory usage: 2.2+ MB\n"
     ]
    }
   ],
   "source": [
    "df.info()"
   ]
  },
  {
   "cell_type": "code",
   "execution_count": 6,
   "metadata": {
    "execution": {
     "iopub.execute_input": "2023-02-11T00:49:46.471696Z",
     "iopub.status.busy": "2023-02-11T00:49:46.470941Z",
     "iopub.status.idle": "2023-02-11T00:49:46.501779Z",
     "shell.execute_reply": "2023-02-11T00:49:46.502349Z",
     "shell.execute_reply.started": "2021-12-15T11:02:20.147285Z"
    },
    "papermill": {
     "duration": 0.109779,
     "end_time": "2023-02-11T00:49:46.502522",
     "exception": false,
     "start_time": "2023-02-11T00:49:46.392743",
     "status": "completed"
    },
    "tags": []
   },
   "outputs": [
    {
     "data": {
      "text/plain": "      age sex on_thyroxine query_on_thyroxine on_antithyroid_meds sick  \\\n0      29   F            f                  f                   f    f   \n1      29   F            f                  f                   f    f   \n2      41   F            f                  f                   f    f   \n3      36   F            f                  f                   f    f   \n4      32   F            f                  f                   f    f   \n...   ...  ..          ...                ...                 ...  ...   \n9167   56   M            f                  f                   f    f   \n9168   22   M            f                  f                   f    f   \n9169   69   M            f                  f                   f    f   \n9170   47   F            f                  f                   f    f   \n9171   31   M            f                  f                   f    f   \n\n     pregnant thyroid_surgery I131_treatment query_hypothyroid  ...    TT4  \\\n0           f               f              f                 t  ...    NaN   \n1           f               f              f                 f  ...  128.0   \n2           f               f              f                 f  ...    NaN   \n3           f               f              f                 f  ...    NaN   \n4           f               f              f                 f  ...    NaN   \n...       ...             ...            ...               ...  ...    ...   \n9167        f               f              f                 f  ...   64.0   \n9168        f               f              f                 f  ...   91.0   \n9169        f               f              f                 f  ...  113.0   \n9170        f               f              f                 f  ...   75.0   \n9171        f               f              f                 t  ...   66.0   \n\n     T4U_measured   T4U FTI_measured   FTI TBG_measured   TBG  \\\n0               f   NaN            f   NaN            f   NaN   \n1               f   NaN            f   NaN            f   NaN   \n2               f   NaN            f   NaN            t  11.0   \n3               f   NaN            f   NaN            t  26.0   \n4               f   NaN            f   NaN            t  36.0   \n...           ...   ...          ...   ...          ...   ...   \n9167            t  0.83            t  77.0            f   NaN   \n9168            t  0.92            t  99.0            f   NaN   \n9169            t  1.27            t  89.0            f   NaN   \n9170            t  0.85            t  88.0            f   NaN   \n9171            t  1.02            t  65.0            f   NaN   \n\n      referral_source target  patient_id  \n0               other      -   840801013  \n1               other      -   840801014  \n2               other      -   840801042  \n3               other      -   840803046  \n4               other      S   840803047  \n...               ...    ...         ...  \n9167              SVI      -   870119022  \n9168              SVI      -   870119023  \n9169              SVI      I   870119025  \n9170            other      -   870119027  \n9171            other      -   870119035  \n\n[9172 rows x 31 columns]",
      "text/html": "<div>\n<style scoped>\n    .dataframe tbody tr th:only-of-type {\n        vertical-align: middle;\n    }\n\n    .dataframe tbody tr th {\n        vertical-align: top;\n    }\n\n    .dataframe thead th {\n        text-align: right;\n    }\n</style>\n<table border=\"1\" class=\"dataframe\">\n  <thead>\n    <tr style=\"text-align: right;\">\n      <th></th>\n      <th>age</th>\n      <th>sex</th>\n      <th>on_thyroxine</th>\n      <th>query_on_thyroxine</th>\n      <th>on_antithyroid_meds</th>\n      <th>sick</th>\n      <th>pregnant</th>\n      <th>thyroid_surgery</th>\n      <th>I131_treatment</th>\n      <th>query_hypothyroid</th>\n      <th>...</th>\n      <th>TT4</th>\n      <th>T4U_measured</th>\n      <th>T4U</th>\n      <th>FTI_measured</th>\n      <th>FTI</th>\n      <th>TBG_measured</th>\n      <th>TBG</th>\n      <th>referral_source</th>\n      <th>target</th>\n      <th>patient_id</th>\n    </tr>\n  </thead>\n  <tbody>\n    <tr>\n      <th>0</th>\n      <td>29</td>\n      <td>F</td>\n      <td>f</td>\n      <td>f</td>\n      <td>f</td>\n      <td>f</td>\n      <td>f</td>\n      <td>f</td>\n      <td>f</td>\n      <td>t</td>\n      <td>...</td>\n      <td>NaN</td>\n      <td>f</td>\n      <td>NaN</td>\n      <td>f</td>\n      <td>NaN</td>\n      <td>f</td>\n      <td>NaN</td>\n      <td>other</td>\n      <td>-</td>\n      <td>840801013</td>\n    </tr>\n    <tr>\n      <th>1</th>\n      <td>29</td>\n      <td>F</td>\n      <td>f</td>\n      <td>f</td>\n      <td>f</td>\n      <td>f</td>\n      <td>f</td>\n      <td>f</td>\n      <td>f</td>\n      <td>f</td>\n      <td>...</td>\n      <td>128.0</td>\n      <td>f</td>\n      <td>NaN</td>\n      <td>f</td>\n      <td>NaN</td>\n      <td>f</td>\n      <td>NaN</td>\n      <td>other</td>\n      <td>-</td>\n      <td>840801014</td>\n    </tr>\n    <tr>\n      <th>2</th>\n      <td>41</td>\n      <td>F</td>\n      <td>f</td>\n      <td>f</td>\n      <td>f</td>\n      <td>f</td>\n      <td>f</td>\n      <td>f</td>\n      <td>f</td>\n      <td>f</td>\n      <td>...</td>\n      <td>NaN</td>\n      <td>f</td>\n      <td>NaN</td>\n      <td>f</td>\n      <td>NaN</td>\n      <td>t</td>\n      <td>11.0</td>\n      <td>other</td>\n      <td>-</td>\n      <td>840801042</td>\n    </tr>\n    <tr>\n      <th>3</th>\n      <td>36</td>\n      <td>F</td>\n      <td>f</td>\n      <td>f</td>\n      <td>f</td>\n      <td>f</td>\n      <td>f</td>\n      <td>f</td>\n      <td>f</td>\n      <td>f</td>\n      <td>...</td>\n      <td>NaN</td>\n      <td>f</td>\n      <td>NaN</td>\n      <td>f</td>\n      <td>NaN</td>\n      <td>t</td>\n      <td>26.0</td>\n      <td>other</td>\n      <td>-</td>\n      <td>840803046</td>\n    </tr>\n    <tr>\n      <th>4</th>\n      <td>32</td>\n      <td>F</td>\n      <td>f</td>\n      <td>f</td>\n      <td>f</td>\n      <td>f</td>\n      <td>f</td>\n      <td>f</td>\n      <td>f</td>\n      <td>f</td>\n      <td>...</td>\n      <td>NaN</td>\n      <td>f</td>\n      <td>NaN</td>\n      <td>f</td>\n      <td>NaN</td>\n      <td>t</td>\n      <td>36.0</td>\n      <td>other</td>\n      <td>S</td>\n      <td>840803047</td>\n    </tr>\n    <tr>\n      <th>...</th>\n      <td>...</td>\n      <td>...</td>\n      <td>...</td>\n      <td>...</td>\n      <td>...</td>\n      <td>...</td>\n      <td>...</td>\n      <td>...</td>\n      <td>...</td>\n      <td>...</td>\n      <td>...</td>\n      <td>...</td>\n      <td>...</td>\n      <td>...</td>\n      <td>...</td>\n      <td>...</td>\n      <td>...</td>\n      <td>...</td>\n      <td>...</td>\n      <td>...</td>\n      <td>...</td>\n    </tr>\n    <tr>\n      <th>9167</th>\n      <td>56</td>\n      <td>M</td>\n      <td>f</td>\n      <td>f</td>\n      <td>f</td>\n      <td>f</td>\n      <td>f</td>\n      <td>f</td>\n      <td>f</td>\n      <td>f</td>\n      <td>...</td>\n      <td>64.0</td>\n      <td>t</td>\n      <td>0.83</td>\n      <td>t</td>\n      <td>77.0</td>\n      <td>f</td>\n      <td>NaN</td>\n      <td>SVI</td>\n      <td>-</td>\n      <td>870119022</td>\n    </tr>\n    <tr>\n      <th>9168</th>\n      <td>22</td>\n      <td>M</td>\n      <td>f</td>\n      <td>f</td>\n      <td>f</td>\n      <td>f</td>\n      <td>f</td>\n      <td>f</td>\n      <td>f</td>\n      <td>f</td>\n      <td>...</td>\n      <td>91.0</td>\n      <td>t</td>\n      <td>0.92</td>\n      <td>t</td>\n      <td>99.0</td>\n      <td>f</td>\n      <td>NaN</td>\n      <td>SVI</td>\n      <td>-</td>\n      <td>870119023</td>\n    </tr>\n    <tr>\n      <th>9169</th>\n      <td>69</td>\n      <td>M</td>\n      <td>f</td>\n      <td>f</td>\n      <td>f</td>\n      <td>f</td>\n      <td>f</td>\n      <td>f</td>\n      <td>f</td>\n      <td>f</td>\n      <td>...</td>\n      <td>113.0</td>\n      <td>t</td>\n      <td>1.27</td>\n      <td>t</td>\n      <td>89.0</td>\n      <td>f</td>\n      <td>NaN</td>\n      <td>SVI</td>\n      <td>I</td>\n      <td>870119025</td>\n    </tr>\n    <tr>\n      <th>9170</th>\n      <td>47</td>\n      <td>F</td>\n      <td>f</td>\n      <td>f</td>\n      <td>f</td>\n      <td>f</td>\n      <td>f</td>\n      <td>f</td>\n      <td>f</td>\n      <td>f</td>\n      <td>...</td>\n      <td>75.0</td>\n      <td>t</td>\n      <td>0.85</td>\n      <td>t</td>\n      <td>88.0</td>\n      <td>f</td>\n      <td>NaN</td>\n      <td>other</td>\n      <td>-</td>\n      <td>870119027</td>\n    </tr>\n    <tr>\n      <th>9171</th>\n      <td>31</td>\n      <td>M</td>\n      <td>f</td>\n      <td>f</td>\n      <td>f</td>\n      <td>f</td>\n      <td>f</td>\n      <td>f</td>\n      <td>f</td>\n      <td>t</td>\n      <td>...</td>\n      <td>66.0</td>\n      <td>t</td>\n      <td>1.02</td>\n      <td>t</td>\n      <td>65.0</td>\n      <td>f</td>\n      <td>NaN</td>\n      <td>other</td>\n      <td>-</td>\n      <td>870119035</td>\n    </tr>\n  </tbody>\n</table>\n<p>9172 rows × 31 columns</p>\n</div>"
     },
     "execution_count": 6,
     "metadata": {},
     "output_type": "execute_result"
    }
   ],
   "source": [
    "df"
   ]
  },
  {
   "cell_type": "code",
   "execution_count": 7,
   "metadata": {
    "execution": {
     "iopub.execute_input": "2023-02-11T00:49:46.638960Z",
     "iopub.status.busy": "2023-02-11T00:49:46.638257Z",
     "iopub.status.idle": "2023-02-11T00:49:46.646547Z",
     "shell.execute_reply": "2023-02-11T00:49:46.647161Z",
     "shell.execute_reply.started": "2021-12-15T11:02:20.181779Z"
    },
    "papermill": {
     "duration": 0.078716,
     "end_time": "2023-02-11T00:49:46.647328",
     "exception": false,
     "start_time": "2023-02-11T00:49:46.568612",
     "status": "completed"
    },
    "tags": []
   },
   "outputs": [
    {
     "ename": "KeyError",
     "evalue": "'binaryClass'",
     "output_type": "error",
     "traceback": [
      "\u001B[1;31m---------------------------------------------------------------------------\u001B[0m",
      "\u001B[1;31mKeyError\u001B[0m                                  Traceback (most recent call last)",
      "\u001B[1;32m~\\anaconda3\\lib\\site-packages\\pandas\\core\\indexes\\base.py\u001B[0m in \u001B[0;36mget_loc\u001B[1;34m(self, key, method, tolerance)\u001B[0m\n\u001B[0;32m   3628\u001B[0m             \u001B[1;32mtry\u001B[0m\u001B[1;33m:\u001B[0m\u001B[1;33m\u001B[0m\u001B[1;33m\u001B[0m\u001B[0m\n\u001B[1;32m-> 3629\u001B[1;33m                 \u001B[1;32mreturn\u001B[0m \u001B[0mself\u001B[0m\u001B[1;33m.\u001B[0m\u001B[0m_engine\u001B[0m\u001B[1;33m.\u001B[0m\u001B[0mget_loc\u001B[0m\u001B[1;33m(\u001B[0m\u001B[0mcasted_key\u001B[0m\u001B[1;33m)\u001B[0m\u001B[1;33m\u001B[0m\u001B[1;33m\u001B[0m\u001B[0m\n\u001B[0m\u001B[0;32m   3630\u001B[0m             \u001B[1;32mexcept\u001B[0m \u001B[0mKeyError\u001B[0m \u001B[1;32mas\u001B[0m \u001B[0merr\u001B[0m\u001B[1;33m:\u001B[0m\u001B[1;33m\u001B[0m\u001B[1;33m\u001B[0m\u001B[0m\n",
      "\u001B[1;32m~\\anaconda3\\lib\\site-packages\\pandas\\_libs\\index.pyx\u001B[0m in \u001B[0;36mpandas._libs.index.IndexEngine.get_loc\u001B[1;34m()\u001B[0m\n",
      "\u001B[1;32m~\\anaconda3\\lib\\site-packages\\pandas\\_libs\\index.pyx\u001B[0m in \u001B[0;36mpandas._libs.index.IndexEngine.get_loc\u001B[1;34m()\u001B[0m\n",
      "\u001B[1;32mpandas\\_libs\\hashtable_class_helper.pxi\u001B[0m in \u001B[0;36mpandas._libs.hashtable.PyObjectHashTable.get_item\u001B[1;34m()\u001B[0m\n",
      "\u001B[1;32mpandas\\_libs\\hashtable_class_helper.pxi\u001B[0m in \u001B[0;36mpandas._libs.hashtable.PyObjectHashTable.get_item\u001B[1;34m()\u001B[0m\n",
      "\u001B[1;31mKeyError\u001B[0m: 'binaryClass'",
      "\nThe above exception was the direct cause of the following exception:\n",
      "\u001B[1;31mKeyError\u001B[0m                                  Traceback (most recent call last)",
      "\u001B[1;32m~\\AppData\\Local\\Temp\\ipykernel_132668\\2722159177.py\u001B[0m in \u001B[0;36m<module>\u001B[1;34m\u001B[0m\n\u001B[1;32m----> 1\u001B[1;33m \u001B[0mdf\u001B[0m\u001B[1;33m[\u001B[0m\u001B[1;34m\"binaryClass\"\u001B[0m\u001B[1;33m]\u001B[0m\u001B[1;33m.\u001B[0m\u001B[0mvalue_counts\u001B[0m\u001B[1;33m(\u001B[0m\u001B[1;33m)\u001B[0m\u001B[1;33m\u001B[0m\u001B[1;33m\u001B[0m\u001B[0m\n\u001B[0m",
      "\u001B[1;32m~\\anaconda3\\lib\\site-packages\\pandas\\core\\frame.py\u001B[0m in \u001B[0;36m__getitem__\u001B[1;34m(self, key)\u001B[0m\n\u001B[0;32m   3503\u001B[0m             \u001B[1;32mif\u001B[0m \u001B[0mself\u001B[0m\u001B[1;33m.\u001B[0m\u001B[0mcolumns\u001B[0m\u001B[1;33m.\u001B[0m\u001B[0mnlevels\u001B[0m \u001B[1;33m>\u001B[0m \u001B[1;36m1\u001B[0m\u001B[1;33m:\u001B[0m\u001B[1;33m\u001B[0m\u001B[1;33m\u001B[0m\u001B[0m\n\u001B[0;32m   3504\u001B[0m                 \u001B[1;32mreturn\u001B[0m \u001B[0mself\u001B[0m\u001B[1;33m.\u001B[0m\u001B[0m_getitem_multilevel\u001B[0m\u001B[1;33m(\u001B[0m\u001B[0mkey\u001B[0m\u001B[1;33m)\u001B[0m\u001B[1;33m\u001B[0m\u001B[1;33m\u001B[0m\u001B[0m\n\u001B[1;32m-> 3505\u001B[1;33m             \u001B[0mindexer\u001B[0m \u001B[1;33m=\u001B[0m \u001B[0mself\u001B[0m\u001B[1;33m.\u001B[0m\u001B[0mcolumns\u001B[0m\u001B[1;33m.\u001B[0m\u001B[0mget_loc\u001B[0m\u001B[1;33m(\u001B[0m\u001B[0mkey\u001B[0m\u001B[1;33m)\u001B[0m\u001B[1;33m\u001B[0m\u001B[1;33m\u001B[0m\u001B[0m\n\u001B[0m\u001B[0;32m   3506\u001B[0m             \u001B[1;32mif\u001B[0m \u001B[0mis_integer\u001B[0m\u001B[1;33m(\u001B[0m\u001B[0mindexer\u001B[0m\u001B[1;33m)\u001B[0m\u001B[1;33m:\u001B[0m\u001B[1;33m\u001B[0m\u001B[1;33m\u001B[0m\u001B[0m\n\u001B[0;32m   3507\u001B[0m                 \u001B[0mindexer\u001B[0m \u001B[1;33m=\u001B[0m \u001B[1;33m[\u001B[0m\u001B[0mindexer\u001B[0m\u001B[1;33m]\u001B[0m\u001B[1;33m\u001B[0m\u001B[1;33m\u001B[0m\u001B[0m\n",
      "\u001B[1;32m~\\anaconda3\\lib\\site-packages\\pandas\\core\\indexes\\base.py\u001B[0m in \u001B[0;36mget_loc\u001B[1;34m(self, key, method, tolerance)\u001B[0m\n\u001B[0;32m   3629\u001B[0m                 \u001B[1;32mreturn\u001B[0m \u001B[0mself\u001B[0m\u001B[1;33m.\u001B[0m\u001B[0m_engine\u001B[0m\u001B[1;33m.\u001B[0m\u001B[0mget_loc\u001B[0m\u001B[1;33m(\u001B[0m\u001B[0mcasted_key\u001B[0m\u001B[1;33m)\u001B[0m\u001B[1;33m\u001B[0m\u001B[1;33m\u001B[0m\u001B[0m\n\u001B[0;32m   3630\u001B[0m             \u001B[1;32mexcept\u001B[0m \u001B[0mKeyError\u001B[0m \u001B[1;32mas\u001B[0m \u001B[0merr\u001B[0m\u001B[1;33m:\u001B[0m\u001B[1;33m\u001B[0m\u001B[1;33m\u001B[0m\u001B[0m\n\u001B[1;32m-> 3631\u001B[1;33m                 \u001B[1;32mraise\u001B[0m \u001B[0mKeyError\u001B[0m\u001B[1;33m(\u001B[0m\u001B[0mkey\u001B[0m\u001B[1;33m)\u001B[0m \u001B[1;32mfrom\u001B[0m \u001B[0merr\u001B[0m\u001B[1;33m\u001B[0m\u001B[1;33m\u001B[0m\u001B[0m\n\u001B[0m\u001B[0;32m   3632\u001B[0m             \u001B[1;32mexcept\u001B[0m \u001B[0mTypeError\u001B[0m\u001B[1;33m:\u001B[0m\u001B[1;33m\u001B[0m\u001B[1;33m\u001B[0m\u001B[0m\n\u001B[0;32m   3633\u001B[0m                 \u001B[1;31m# If we have a listlike key, _check_indexing_error will raise\u001B[0m\u001B[1;33m\u001B[0m\u001B[1;33m\u001B[0m\u001B[0m\n",
      "\u001B[1;31mKeyError\u001B[0m: 'binaryClass'"
     ]
    }
   ],
   "source": [
    "df[\"binaryClass\"].value_counts()"
   ]
  },
  {
   "cell_type": "code",
   "execution_count": null,
   "metadata": {
    "execution": {
     "iopub.execute_input": "2023-02-11T00:49:46.789059Z",
     "iopub.status.busy": "2023-02-11T00:49:46.788059Z",
     "iopub.status.idle": "2023-02-11T00:49:46.792361Z",
     "shell.execute_reply": "2023-02-11T00:49:46.791831Z",
     "shell.execute_reply.started": "2021-12-15T11:02:20.193074Z"
    },
    "papermill": {
     "duration": 0.078031,
     "end_time": "2023-02-11T00:49:46.792494",
     "exception": false,
     "start_time": "2023-02-11T00:49:46.714463",
     "status": "completed"
    },
    "tags": []
   },
   "outputs": [],
   "source": [
    "df[\"binaryClass\"]=df[\"binaryClass\"].map({\"P\":0,\"N\":1})"
   ]
  },
  {
   "cell_type": "code",
   "execution_count": null,
   "metadata": {
    "execution": {
     "iopub.execute_input": "2023-02-11T00:49:46.927638Z",
     "iopub.status.busy": "2023-02-11T00:49:46.926956Z",
     "iopub.status.idle": "2023-02-11T00:49:46.934130Z",
     "shell.execute_reply": "2023-02-11T00:49:46.934638Z",
     "shell.execute_reply.started": "2021-12-15T11:02:20.207546Z"
    },
    "papermill": {
     "duration": 0.076211,
     "end_time": "2023-02-11T00:49:46.934787",
     "exception": false,
     "start_time": "2023-02-11T00:49:46.858576",
     "status": "completed"
    },
    "tags": []
   },
   "outputs": [],
   "source": [
    "df[\"pregnant\"].value_counts()"
   ]
  },
  {
   "cell_type": "code",
   "execution_count": null,
   "metadata": {
    "execution": {
     "iopub.execute_input": "2023-02-11T00:49:47.070868Z",
     "iopub.status.busy": "2023-02-11T00:49:47.070159Z",
     "iopub.status.idle": "2023-02-11T00:49:47.115380Z",
     "shell.execute_reply": "2023-02-11T00:49:47.115941Z",
     "shell.execute_reply.started": "2021-12-15T11:02:20.226266Z"
    },
    "papermill": {
     "duration": 0.11482,
     "end_time": "2023-02-11T00:49:47.116129",
     "exception": false,
     "start_time": "2023-02-11T00:49:47.001309",
     "status": "completed"
    },
    "tags": []
   },
   "outputs": [],
   "source": [
    "df=df.replace({\"t\":1,\"f\":0})"
   ]
  },
  {
   "cell_type": "code",
   "execution_count": null,
   "metadata": {
    "execution": {
     "iopub.execute_input": "2023-02-11T00:49:47.254397Z",
     "iopub.status.busy": "2023-02-11T00:49:47.253365Z",
     "iopub.status.idle": "2023-02-11T00:49:47.293838Z",
     "shell.execute_reply": "2023-02-11T00:49:47.294325Z",
     "shell.execute_reply.started": "2021-12-15T11:02:20.276537Z"
    },
    "papermill": {
     "duration": 0.11184,
     "end_time": "2023-02-11T00:49:47.294489",
     "exception": false,
     "start_time": "2023-02-11T00:49:47.182649",
     "status": "completed"
    },
    "tags": []
   },
   "outputs": [],
   "source": [
    "df"
   ]
  },
  {
   "cell_type": "code",
   "execution_count": null,
   "metadata": {
    "execution": {
     "iopub.execute_input": "2023-02-11T00:49:47.432154Z",
     "iopub.status.busy": "2023-02-11T00:49:47.431117Z",
     "iopub.status.idle": "2023-02-11T00:49:47.434779Z",
     "shell.execute_reply": "2023-02-11T00:49:47.435262Z",
     "shell.execute_reply.started": "2021-12-15T11:02:20.318461Z"
    },
    "papermill": {
     "duration": 0.074212,
     "end_time": "2023-02-11T00:49:47.435421",
     "exception": false,
     "start_time": "2023-02-11T00:49:47.361209",
     "status": "completed"
    },
    "tags": []
   },
   "outputs": [],
   "source": [
    "#df['target'].isnull().sum()"
   ]
  },
  {
   "cell_type": "code",
   "execution_count": null,
   "metadata": {
    "execution": {
     "iopub.execute_input": "2023-02-11T00:49:47.573893Z",
     "iopub.status.busy": "2023-02-11T00:49:47.572886Z",
     "iopub.status.idle": "2023-02-11T00:49:47.580107Z",
     "shell.execute_reply": "2023-02-11T00:49:47.580649Z",
     "shell.execute_reply.started": "2021-12-15T11:02:20.323649Z"
    },
    "papermill": {
     "duration": 0.078454,
     "end_time": "2023-02-11T00:49:47.580801",
     "exception": false,
     "start_time": "2023-02-11T00:49:47.502347",
     "status": "completed"
    },
    "tags": []
   },
   "outputs": [],
   "source": [
    "df['sex'].isnull().sum()"
   ]
  },
  {
   "cell_type": "code",
   "execution_count": null,
   "metadata": {
    "execution": {
     "iopub.execute_input": "2023-02-11T00:49:47.722936Z",
     "iopub.status.busy": "2023-02-11T00:49:47.722228Z",
     "iopub.status.idle": "2023-02-11T00:49:47.726237Z",
     "shell.execute_reply": "2023-02-11T00:49:47.726753Z",
     "shell.execute_reply.started": "2021-12-15T11:02:20.340748Z"
    },
    "papermill": {
     "duration": 0.079039,
     "end_time": "2023-02-11T00:49:47.726918",
     "exception": false,
     "start_time": "2023-02-11T00:49:47.647879",
     "status": "completed"
    },
    "tags": []
   },
   "outputs": [],
   "source": [
    "df[\"TBG\"].value_counts()"
   ]
  },
  {
   "cell_type": "code",
   "execution_count": null,
   "metadata": {
    "execution": {
     "iopub.execute_input": "2023-02-11T00:49:47.864501Z",
     "iopub.status.busy": "2023-02-11T00:49:47.863862Z",
     "iopub.status.idle": "2023-02-11T00:49:47.868818Z",
     "shell.execute_reply": "2023-02-11T00:49:47.869280Z",
     "shell.execute_reply.started": "2021-12-15T11:02:20.355022Z"
    },
    "papermill": {
     "duration": 0.075126,
     "end_time": "2023-02-11T00:49:47.869433",
     "exception": false,
     "start_time": "2023-02-11T00:49:47.794307",
     "status": "completed"
    },
    "tags": []
   },
   "outputs": [],
   "source": [
    "del df[\"TBG\"]"
   ]
  },
  {
   "cell_type": "code",
   "execution_count": null,
   "metadata": {
    "execution": {
     "iopub.execute_input": "2023-02-11T00:49:48.007040Z",
     "iopub.status.busy": "2023-02-11T00:49:48.006337Z",
     "iopub.status.idle": "2023-02-11T00:49:48.025661Z",
     "shell.execute_reply": "2023-02-11T00:49:48.025057Z",
     "shell.execute_reply.started": "2021-12-15T11:02:20.36729Z"
    },
    "papermill": {
     "duration": 0.089045,
     "end_time": "2023-02-11T00:49:48.025783",
     "exception": false,
     "start_time": "2023-02-11T00:49:47.936738",
     "status": "completed"
    },
    "tags": []
   },
   "outputs": [],
   "source": [
    "df=df.replace({\"?\":np.NAN})"
   ]
  },
  {
   "cell_type": "code",
   "execution_count": null,
   "metadata": {
    "execution": {
     "iopub.execute_input": "2023-02-11T00:49:48.168007Z",
     "iopub.status.busy": "2023-02-11T00:49:48.167339Z",
     "iopub.status.idle": "2023-02-11T00:49:48.172763Z",
     "shell.execute_reply": "2023-02-11T00:49:48.173289Z",
     "shell.execute_reply.started": "2021-12-15T11:02:20.392869Z"
    },
    "papermill": {
     "duration": 0.079835,
     "end_time": "2023-02-11T00:49:48.173440",
     "exception": false,
     "start_time": "2023-02-11T00:49:48.093605",
     "status": "completed"
    },
    "tags": []
   },
   "outputs": [],
   "source": [
    "df.isnull().sum()"
   ]
  },
  {
   "cell_type": "code",
   "execution_count": null,
   "metadata": {
    "execution": {
     "iopub.execute_input": "2023-02-11T00:49:48.315716Z",
     "iopub.status.busy": "2023-02-11T00:49:48.315040Z",
     "iopub.status.idle": "2023-02-11T00:49:48.322842Z",
     "shell.execute_reply": "2023-02-11T00:49:48.323407Z",
     "shell.execute_reply.started": "2021-12-15T11:02:20.404679Z"
    },
    "papermill": {
     "duration": 0.079591,
     "end_time": "2023-02-11T00:49:48.323571",
     "exception": false,
     "start_time": "2023-02-11T00:49:48.243980",
     "status": "completed"
    },
    "tags": []
   },
   "outputs": [],
   "source": [
    "df[\"sex\"].value_counts()"
   ]
  },
  {
   "cell_type": "code",
   "execution_count": null,
   "metadata": {
    "execution": {
     "iopub.execute_input": "2023-02-11T00:49:48.490470Z",
     "iopub.status.busy": "2023-02-11T00:49:48.483704Z",
     "iopub.status.idle": "2023-02-11T00:49:48.506755Z",
     "shell.execute_reply": "2023-02-11T00:49:48.506135Z",
     "shell.execute_reply.started": "2021-12-15T11:02:20.416512Z"
    },
    "papermill": {
     "duration": 0.111207,
     "end_time": "2023-02-11T00:49:48.506904",
     "exception": false,
     "start_time": "2023-02-11T00:49:48.395697",
     "status": "completed"
    },
    "tags": []
   },
   "outputs": [],
   "source": [
    "df=df.replace({\"F\":1,\"M\":0})"
   ]
  },
  {
   "cell_type": "code",
   "execution_count": null,
   "metadata": {
    "execution": {
     "iopub.execute_input": "2023-02-11T00:49:48.654867Z",
     "iopub.status.busy": "2023-02-11T00:49:48.654018Z",
     "iopub.status.idle": "2023-02-11T00:49:48.656768Z",
     "shell.execute_reply": "2023-02-11T00:49:48.657392Z",
     "shell.execute_reply.started": "2021-12-15T11:02:20.443634Z"
    },
    "papermill": {
     "duration": 0.079176,
     "end_time": "2023-02-11T00:49:48.657545",
     "exception": false,
     "start_time": "2023-02-11T00:49:48.578369",
     "status": "completed"
    },
    "tags": []
   },
   "outputs": [],
   "source": [
    "df[\"referral source\"].value_counts()"
   ]
  },
  {
   "cell_type": "code",
   "execution_count": null,
   "metadata": {
    "execution": {
     "iopub.execute_input": "2023-02-11T00:49:48.797759Z",
     "iopub.status.busy": "2023-02-11T00:49:48.797026Z",
     "iopub.status.idle": "2023-02-11T00:49:48.802765Z",
     "shell.execute_reply": "2023-02-11T00:49:48.803375Z",
     "shell.execute_reply.started": "2021-12-15T11:02:20.455547Z"
    },
    "papermill": {
     "duration": 0.077977,
     "end_time": "2023-02-11T00:49:48.803561",
     "exception": false,
     "start_time": "2023-02-11T00:49:48.725584",
     "status": "completed"
    },
    "tags": []
   },
   "outputs": [],
   "source": [
    "del df[\"referral source\"]"
   ]
  },
  {
   "cell_type": "code",
   "execution_count": null,
   "metadata": {
    "execution": {
     "iopub.execute_input": "2023-02-11T00:49:48.944644Z",
     "iopub.status.busy": "2023-02-11T00:49:48.943911Z",
     "iopub.status.idle": "2023-02-11T00:49:48.958552Z",
     "shell.execute_reply": "2023-02-11T00:49:48.959370Z",
     "shell.execute_reply.started": "2021-12-15T11:02:20.467429Z"
    },
    "papermill": {
     "duration": 0.086536,
     "end_time": "2023-02-11T00:49:48.959582",
     "exception": false,
     "start_time": "2023-02-11T00:49:48.873046",
     "status": "completed"
    },
    "tags": []
   },
   "outputs": [],
   "source": [
    "df.info()"
   ]
  },
  {
   "cell_type": "code",
   "execution_count": null,
   "metadata": {
    "execution": {
     "iopub.execute_input": "2023-02-11T00:49:49.105898Z",
     "iopub.status.busy": "2023-02-11T00:49:49.105182Z",
     "iopub.status.idle": "2023-02-11T00:49:49.110376Z",
     "shell.execute_reply": "2023-02-11T00:49:49.110905Z",
     "shell.execute_reply.started": "2021-12-15T11:02:20.4936Z"
    },
    "papermill": {
     "duration": 0.081572,
     "end_time": "2023-02-11T00:49:49.111060",
     "exception": false,
     "start_time": "2023-02-11T00:49:49.029488",
     "status": "completed"
    },
    "tags": []
   },
   "outputs": [],
   "source": [
    "df[\"T3 measured\"].value_counts()"
   ]
  },
  {
   "cell_type": "code",
   "execution_count": null,
   "metadata": {
    "execution": {
     "iopub.execute_input": "2023-02-11T00:49:49.253717Z",
     "iopub.status.busy": "2023-02-11T00:49:49.253003Z",
     "iopub.status.idle": "2023-02-11T00:49:49.261708Z",
     "shell.execute_reply": "2023-02-11T00:49:49.261027Z",
     "shell.execute_reply.started": "2021-12-15T11:02:20.502932Z"
    },
    "papermill": {
     "duration": 0.080535,
     "end_time": "2023-02-11T00:49:49.261844",
     "exception": false,
     "start_time": "2023-02-11T00:49:49.181309",
     "status": "completed"
    },
    "tags": []
   },
   "outputs": [],
   "source": [
    "df[\"TT4 measured\"].value_counts()"
   ]
  },
  {
   "cell_type": "code",
   "execution_count": null,
   "metadata": {
    "execution": {
     "iopub.execute_input": "2023-02-11T00:49:49.406745Z",
     "iopub.status.busy": "2023-02-11T00:49:49.405717Z",
     "iopub.status.idle": "2023-02-11T00:49:49.413071Z",
     "shell.execute_reply": "2023-02-11T00:49:49.413609Z",
     "shell.execute_reply.started": "2021-12-15T11:02:20.519226Z"
    },
    "papermill": {
     "duration": 0.081381,
     "end_time": "2023-02-11T00:49:49.413777",
     "exception": false,
     "start_time": "2023-02-11T00:49:49.332396",
     "status": "completed"
    },
    "tags": []
   },
   "outputs": [],
   "source": [
    "df[\"FTI measured\"].value_counts()"
   ]
  },
  {
   "cell_type": "code",
   "execution_count": null,
   "metadata": {
    "execution": {
     "iopub.execute_input": "2023-02-11T00:49:49.560809Z",
     "iopub.status.busy": "2023-02-11T00:49:49.560115Z",
     "iopub.status.idle": "2023-02-11T00:49:49.562857Z",
     "shell.execute_reply": "2023-02-11T00:49:49.563406Z",
     "shell.execute_reply.started": "2021-12-15T11:02:20.536778Z"
    },
    "papermill": {
     "duration": 0.080244,
     "end_time": "2023-02-11T00:49:49.563568",
     "exception": false,
     "start_time": "2023-02-11T00:49:49.483324",
     "status": "completed"
    },
    "tags": []
   },
   "outputs": [],
   "source": [
    "df[\"TBG measured\"].value_counts()"
   ]
  },
  {
   "cell_type": "code",
   "execution_count": null,
   "metadata": {
    "execution": {
     "iopub.execute_input": "2023-02-11T00:49:49.708138Z",
     "iopub.status.busy": "2023-02-11T00:49:49.707397Z",
     "iopub.status.idle": "2023-02-11T00:49:49.714998Z",
     "shell.execute_reply": "2023-02-11T00:49:49.714458Z",
     "shell.execute_reply.started": "2021-12-15T11:02:20.548621Z"
    },
    "papermill": {
     "duration": 0.080833,
     "end_time": "2023-02-11T00:49:49.715144",
     "exception": false,
     "start_time": "2023-02-11T00:49:49.634311",
     "status": "completed"
    },
    "tags": []
   },
   "outputs": [],
   "source": [
    "df[\"binaryClass\"].value_counts()"
   ]
  },
  {
   "cell_type": "code",
   "execution_count": null,
   "metadata": {
    "execution": {
     "iopub.execute_input": "2023-02-11T00:49:49.864595Z",
     "iopub.status.busy": "2023-02-11T00:49:49.863877Z",
     "iopub.status.idle": "2023-02-11T00:49:49.868745Z",
     "shell.execute_reply": "2023-02-11T00:49:49.869334Z",
     "shell.execute_reply.started": "2021-12-15T11:02:20.560233Z"
    },
    "papermill": {
     "duration": 0.083129,
     "end_time": "2023-02-11T00:49:49.869502",
     "exception": false,
     "start_time": "2023-02-11T00:49:49.786373",
     "status": "completed"
    },
    "tags": []
   },
   "outputs": [],
   "source": [
    "df.dtypes"
   ]
  },
  {
   "cell_type": "code",
   "execution_count": null,
   "metadata": {
    "execution": {
     "iopub.execute_input": "2023-02-11T00:49:50.016247Z",
     "iopub.status.busy": "2023-02-11T00:49:50.015492Z",
     "iopub.status.idle": "2023-02-11T00:49:50.041824Z",
     "shell.execute_reply": "2023-02-11T00:49:50.042406Z",
     "shell.execute_reply.started": "2021-12-15T11:02:20.573123Z"
    },
    "papermill": {
     "duration": 0.10062,
     "end_time": "2023-02-11T00:49:50.042566",
     "exception": false,
     "start_time": "2023-02-11T00:49:49.941946",
     "status": "completed"
    },
    "tags": []
   },
   "outputs": [],
   "source": [
    "cols = df.columns[df.dtypes.eq('object')]\n",
    "df[cols] = df[cols].apply(pd.to_numeric, errors='coerce')\n",
    "df.dtypes"
   ]
  },
  {
   "cell_type": "code",
   "execution_count": null,
   "metadata": {
    "execution": {
     "iopub.execute_input": "2023-02-11T00:49:50.188422Z",
     "iopub.status.busy": "2023-02-11T00:49:50.187733Z",
     "iopub.status.idle": "2023-02-11T00:49:50.195975Z",
     "shell.execute_reply": "2023-02-11T00:49:50.196607Z",
     "shell.execute_reply.started": "2021-12-15T11:02:20.60283Z"
    },
    "papermill": {
     "duration": 0.082205,
     "end_time": "2023-02-11T00:49:50.196765",
     "exception": false,
     "start_time": "2023-02-11T00:49:50.114560",
     "status": "completed"
    },
    "tags": []
   },
   "outputs": [],
   "source": [
    "df.isnull().sum()"
   ]
  },
  {
   "cell_type": "code",
   "execution_count": null,
   "metadata": {
    "execution": {
     "iopub.execute_input": "2023-02-11T00:49:50.343633Z",
     "iopub.status.busy": "2023-02-11T00:49:50.342979Z",
     "iopub.status.idle": "2023-02-11T00:49:50.348507Z",
     "shell.execute_reply": "2023-02-11T00:49:50.349126Z",
     "shell.execute_reply.started": "2021-12-15T11:02:20.61757Z"
    },
    "papermill": {
     "duration": 0.08057,
     "end_time": "2023-02-11T00:49:50.349278",
     "exception": false,
     "start_time": "2023-02-11T00:49:50.268708",
     "status": "completed"
    },
    "tags": []
   },
   "outputs": [],
   "source": [
    "df['T4U measured'].mean()"
   ]
  },
  {
   "cell_type": "code",
   "execution_count": null,
   "metadata": {
    "execution": {
     "iopub.execute_input": "2023-02-11T00:49:50.495192Z",
     "iopub.status.busy": "2023-02-11T00:49:50.494478Z",
     "iopub.status.idle": "2023-02-11T00:49:50.499645Z",
     "shell.execute_reply": "2023-02-11T00:49:50.500236Z",
     "shell.execute_reply.started": "2021-12-15T11:02:20.625535Z"
    },
    "papermill": {
     "duration": 0.079873,
     "end_time": "2023-02-11T00:49:50.500392",
     "exception": false,
     "start_time": "2023-02-11T00:49:50.420519",
     "status": "completed"
    },
    "tags": []
   },
   "outputs": [],
   "source": [
    "df['T4U measured'].fillna(df['T4U measured'].mean(), inplace=True)"
   ]
  },
  {
   "cell_type": "code",
   "execution_count": null,
   "metadata": {
    "execution": {
     "iopub.execute_input": "2023-02-11T00:49:50.647202Z",
     "iopub.status.busy": "2023-02-11T00:49:50.646505Z",
     "iopub.status.idle": "2023-02-11T00:49:50.651544Z",
     "shell.execute_reply": "2023-02-11T00:49:50.652191Z",
     "shell.execute_reply.started": "2021-12-15T11:02:20.636726Z"
    },
    "papermill": {
     "duration": 0.080071,
     "end_time": "2023-02-11T00:49:50.652347",
     "exception": false,
     "start_time": "2023-02-11T00:49:50.572276",
     "status": "completed"
    },
    "tags": []
   },
   "outputs": [],
   "source": [
    "df['sex'].fillna(df['sex'].mean(), inplace=True)"
   ]
  },
  {
   "cell_type": "code",
   "execution_count": null,
   "metadata": {
    "execution": {
     "iopub.execute_input": "2023-02-11T00:49:50.801331Z",
     "iopub.status.busy": "2023-02-11T00:49:50.800630Z",
     "iopub.status.idle": "2023-02-11T00:49:50.805811Z",
     "shell.execute_reply": "2023-02-11T00:49:50.806400Z",
     "shell.execute_reply.started": "2021-12-15T11:02:20.648691Z"
    },
    "papermill": {
     "duration": 0.081365,
     "end_time": "2023-02-11T00:49:50.806580",
     "exception": false,
     "start_time": "2023-02-11T00:49:50.725215",
     "status": "completed"
    },
    "tags": []
   },
   "outputs": [],
   "source": [
    "df['age'].fillna(df['age'].mean(), inplace=True)"
   ]
  },
  {
   "cell_type": "code",
   "execution_count": null,
   "metadata": {
    "execution": {
     "iopub.execute_input": "2023-02-11T00:49:50.953532Z",
     "iopub.status.busy": "2023-02-11T00:49:50.952871Z",
     "iopub.status.idle": "2023-02-11T00:49:51.291641Z",
     "shell.execute_reply": "2023-02-11T00:49:51.292210Z",
     "shell.execute_reply.started": "2021-12-15T11:02:20.662786Z"
    },
    "papermill": {
     "duration": 0.413936,
     "end_time": "2023-02-11T00:49:51.292392",
     "exception": false,
     "start_time": "2023-02-11T00:49:50.878456",
     "status": "completed"
    },
    "tags": []
   },
   "outputs": [],
   "source": [
    "from sklearn.impute import SimpleImputer\n",
    "\n",
    "imputer = SimpleImputer(strategy='mean')"
   ]
  },
  {
   "cell_type": "code",
   "execution_count": null,
   "metadata": {
    "execution": {
     "iopub.execute_input": "2023-02-11T00:49:51.443594Z",
     "iopub.status.busy": "2023-02-11T00:49:51.442514Z",
     "iopub.status.idle": "2023-02-11T00:49:51.450325Z",
     "shell.execute_reply": "2023-02-11T00:49:51.450900Z",
     "shell.execute_reply.started": "2021-12-15T11:02:20.674589Z"
    },
    "papermill": {
     "duration": 0.086251,
     "end_time": "2023-02-11T00:49:51.451056",
     "exception": false,
     "start_time": "2023-02-11T00:49:51.364805",
     "status": "completed"
    },
    "tags": []
   },
   "outputs": [],
   "source": [
    "df['TSH'] = imputer.fit_transform(df[['TSH']])"
   ]
  },
  {
   "cell_type": "code",
   "execution_count": null,
   "metadata": {
    "execution": {
     "iopub.execute_input": "2023-02-11T00:49:51.598426Z",
     "iopub.status.busy": "2023-02-11T00:49:51.597384Z",
     "iopub.status.idle": "2023-02-11T00:49:51.607308Z",
     "shell.execute_reply": "2023-02-11T00:49:51.607894Z",
     "shell.execute_reply.started": "2021-12-15T11:02:20.694188Z"
    },
    "papermill": {
     "duration": 0.085268,
     "end_time": "2023-02-11T00:49:51.608050",
     "exception": false,
     "start_time": "2023-02-11T00:49:51.522782",
     "status": "completed"
    },
    "tags": []
   },
   "outputs": [],
   "source": [
    "df['T3'] = imputer.fit_transform(df[['T3']])"
   ]
  },
  {
   "cell_type": "code",
   "execution_count": null,
   "metadata": {
    "execution": {
     "iopub.execute_input": "2023-02-11T00:49:51.755430Z",
     "iopub.status.busy": "2023-02-11T00:49:51.754386Z",
     "iopub.status.idle": "2023-02-11T00:49:51.764569Z",
     "shell.execute_reply": "2023-02-11T00:49:51.765151Z",
     "shell.execute_reply.started": "2021-12-15T11:02:20.710975Z"
    },
    "papermill": {
     "duration": 0.085654,
     "end_time": "2023-02-11T00:49:51.765317",
     "exception": false,
     "start_time": "2023-02-11T00:49:51.679663",
     "status": "completed"
    },
    "tags": []
   },
   "outputs": [],
   "source": [
    "df['TT4'] = imputer.fit_transform(df[['TT4']])"
   ]
  },
  {
   "cell_type": "code",
   "execution_count": null,
   "metadata": {
    "execution": {
     "iopub.execute_input": "2023-02-11T00:49:51.912876Z",
     "iopub.status.busy": "2023-02-11T00:49:51.911778Z",
     "iopub.status.idle": "2023-02-11T00:49:51.922715Z",
     "shell.execute_reply": "2023-02-11T00:49:51.922149Z",
     "shell.execute_reply.started": "2021-12-15T11:02:20.722837Z"
    },
    "papermill": {
     "duration": 0.085544,
     "end_time": "2023-02-11T00:49:51.922854",
     "exception": false,
     "start_time": "2023-02-11T00:49:51.837310",
     "status": "completed"
    },
    "tags": []
   },
   "outputs": [],
   "source": [
    "df['T4U'] = imputer.fit_transform(df[['T4U']])"
   ]
  },
  {
   "cell_type": "code",
   "execution_count": null,
   "metadata": {
    "execution": {
     "iopub.execute_input": "2023-02-11T00:49:52.075061Z",
     "iopub.status.busy": "2023-02-11T00:49:52.073930Z",
     "iopub.status.idle": "2023-02-11T00:49:52.080759Z",
     "shell.execute_reply": "2023-02-11T00:49:52.080004Z",
     "shell.execute_reply.started": "2021-12-15T11:02:20.735967Z"
    },
    "papermill": {
     "duration": 0.086379,
     "end_time": "2023-02-11T00:49:52.080890",
     "exception": false,
     "start_time": "2023-02-11T00:49:51.994511",
     "status": "completed"
    },
    "tags": []
   },
   "outputs": [],
   "source": [
    "df['FTI'] = imputer.fit_transform(df[['FTI']])"
   ]
  },
  {
   "cell_type": "code",
   "execution_count": null,
   "metadata": {
    "execution": {
     "iopub.execute_input": "2023-02-11T00:49:52.234272Z",
     "iopub.status.busy": "2023-02-11T00:49:52.233585Z",
     "iopub.status.idle": "2023-02-11T00:49:52.239897Z",
     "shell.execute_reply": "2023-02-11T00:49:52.240430Z",
     "shell.execute_reply.started": "2021-12-15T11:02:20.753148Z"
    },
    "papermill": {
     "duration": 0.085843,
     "end_time": "2023-02-11T00:49:52.240587",
     "exception": false,
     "start_time": "2023-02-11T00:49:52.154744",
     "status": "completed"
    },
    "tags": []
   },
   "outputs": [],
   "source": [
    "df.isnull().sum()"
   ]
  },
  {
   "cell_type": "code",
   "execution_count": null,
   "metadata": {
    "execution": {
     "iopub.execute_input": "2023-02-11T00:49:52.394486Z",
     "iopub.status.busy": "2023-02-11T00:49:52.391501Z",
     "iopub.status.idle": "2023-02-11T00:49:52.426626Z",
     "shell.execute_reply": "2023-02-11T00:49:52.427110Z",
     "shell.execute_reply.started": "2021-12-15T11:02:20.767527Z"
    },
    "papermill": {
     "duration": 0.113926,
     "end_time": "2023-02-11T00:49:52.427301",
     "exception": false,
     "start_time": "2023-02-11T00:49:52.313375",
     "status": "completed"
    },
    "tags": []
   },
   "outputs": [],
   "source": [
    "df"
   ]
  },
  {
   "cell_type": "code",
   "execution_count": null,
   "metadata": {
    "execution": {
     "iopub.execute_input": "2023-02-11T00:49:52.578670Z",
     "iopub.status.busy": "2023-02-11T00:49:52.577692Z",
     "iopub.status.idle": "2023-02-11T00:49:52.583058Z",
     "shell.execute_reply": "2023-02-11T00:49:52.583661Z",
     "shell.execute_reply.started": "2021-12-15T11:02:20.807713Z"
    },
    "papermill": {
     "duration": 0.081379,
     "end_time": "2023-02-11T00:49:52.583827",
     "exception": false,
     "start_time": "2023-02-11T00:49:52.502448",
     "status": "completed"
    },
    "tags": []
   },
   "outputs": [],
   "source": [
    "df.columns"
   ]
  },
  {
   "cell_type": "code",
   "execution_count": null,
   "metadata": {
    "execution": {
     "iopub.execute_input": "2023-02-11T00:49:52.732664Z",
     "iopub.status.busy": "2023-02-11T00:49:52.732002Z",
     "iopub.status.idle": "2023-02-11T00:49:52.740180Z",
     "shell.execute_reply": "2023-02-11T00:49:52.740727Z",
     "shell.execute_reply.started": "2021-12-15T11:02:20.815502Z"
    },
    "papermill": {
     "duration": 0.083945,
     "end_time": "2023-02-11T00:49:52.740886",
     "exception": false,
     "start_time": "2023-02-11T00:49:52.656941",
     "status": "completed"
    },
    "tags": []
   },
   "outputs": [],
   "source": [
    "import seaborn as sns\n",
    "\n",
    "%matplotlib inline\n",
    "sns.set(rc={'figure.figsize': [8, 8]}, font_scale=1.2)"
   ]
  },
  {
   "cell_type": "code",
   "execution_count": null,
   "metadata": {
    "execution": {
     "iopub.execute_input": "2023-02-11T00:49:52.890765Z",
     "iopub.status.busy": "2023-02-11T00:49:52.890128Z",
     "iopub.status.idle": "2023-02-11T00:49:53.293479Z",
     "shell.execute_reply": "2023-02-11T00:49:53.292868Z",
     "shell.execute_reply.started": "2021-12-15T11:02:20.826448Z"
    },
    "papermill": {
     "duration": 0.47928,
     "end_time": "2023-02-11T00:49:53.293605",
     "exception": false,
     "start_time": "2023-02-11T00:49:52.814325",
     "status": "completed"
    },
    "tags": []
   },
   "outputs": [],
   "source": [
    "sns.distplot(df['age'])"
   ]
  },
  {
   "cell_type": "code",
   "execution_count": null,
   "metadata": {
    "execution": {
     "iopub.execute_input": "2023-02-11T00:49:53.452795Z",
     "iopub.status.busy": "2023-02-11T00:49:53.452138Z",
     "iopub.status.idle": "2023-02-11T00:49:53.745108Z",
     "shell.execute_reply": "2023-02-11T00:49:53.744528Z",
     "shell.execute_reply.started": "2021-12-15T11:02:21.170392Z"
    },
    "papermill": {
     "duration": 0.37529,
     "end_time": "2023-02-11T00:49:53.745232",
     "exception": false,
     "start_time": "2023-02-11T00:49:53.369942",
     "status": "completed"
    },
    "tags": []
   },
   "outputs": [],
   "source": [
    "sns.distplot(df['sex'])"
   ]
  },
  {
   "cell_type": "code",
   "execution_count": null,
   "metadata": {
    "execution": {
     "iopub.execute_input": "2023-02-11T00:49:53.906543Z",
     "iopub.status.busy": "2023-02-11T00:49:53.905789Z",
     "iopub.status.idle": "2023-02-11T00:49:54.269850Z",
     "shell.execute_reply": "2023-02-11T00:49:54.269234Z",
     "shell.execute_reply.started": "2021-12-15T11:02:21.457133Z"
    },
    "papermill": {
     "duration": 0.449176,
     "end_time": "2023-02-11T00:49:54.269984",
     "exception": false,
     "start_time": "2023-02-11T00:49:53.820808",
     "status": "completed"
    },
    "tags": []
   },
   "outputs": [],
   "source": [
    "sns.distplot(df['T3'])"
   ]
  },
  {
   "cell_type": "code",
   "execution_count": null,
   "metadata": {
    "execution": {
     "iopub.execute_input": "2023-02-11T00:49:54.431528Z",
     "iopub.status.busy": "2023-02-11T00:49:54.430497Z",
     "iopub.status.idle": "2023-02-11T00:49:54.795991Z",
     "shell.execute_reply": "2023-02-11T00:49:54.795441Z",
     "shell.execute_reply.started": "2021-12-15T11:02:21.815477Z"
    },
    "papermill": {
     "duration": 0.447503,
     "end_time": "2023-02-11T00:49:54.796129",
     "exception": false,
     "start_time": "2023-02-11T00:49:54.348626",
     "status": "completed"
    },
    "tags": []
   },
   "outputs": [],
   "source": [
    "sns.distplot(df['TT4'])"
   ]
  },
  {
   "cell_type": "code",
   "execution_count": null,
   "metadata": {
    "execution": {
     "iopub.execute_input": "2023-02-11T00:49:54.970518Z",
     "iopub.status.busy": "2023-02-11T00:49:54.969842Z",
     "iopub.status.idle": "2023-02-11T00:49:55.312314Z",
     "shell.execute_reply": "2023-02-11T00:49:55.311621Z",
     "shell.execute_reply.started": "2021-12-15T11:02:22.16249Z"
    },
    "papermill": {
     "duration": 0.43603,
     "end_time": "2023-02-11T00:49:55.312444",
     "exception": false,
     "start_time": "2023-02-11T00:49:54.876414",
     "status": "completed"
    },
    "tags": []
   },
   "outputs": [],
   "source": [
    "sns.distplot(df['T4U'])"
   ]
  },
  {
   "cell_type": "code",
   "execution_count": null,
   "metadata": {
    "execution": {
     "iopub.execute_input": "2023-02-11T00:49:55.484896Z",
     "iopub.status.busy": "2023-02-11T00:49:55.484224Z",
     "iopub.status.idle": "2023-02-11T00:49:55.823945Z",
     "shell.execute_reply": "2023-02-11T00:49:55.824521Z",
     "shell.execute_reply.started": "2021-12-15T11:02:22.851197Z"
    },
    "papermill": {
     "duration": 0.431693,
     "end_time": "2023-02-11T00:49:55.824699",
     "exception": false,
     "start_time": "2023-02-11T00:49:55.393006",
     "status": "completed"
    },
    "tags": []
   },
   "outputs": [],
   "source": [
    "sns.distplot(df['FTI'])"
   ]
  },
  {
   "cell_type": "code",
   "execution_count": null,
   "metadata": {
    "execution": {
     "iopub.execute_input": "2023-02-11T00:49:56.106974Z",
     "iopub.status.busy": "2023-02-11T00:49:55.992655Z",
     "iopub.status.idle": "2023-02-11T00:49:56.510242Z",
     "shell.execute_reply": "2023-02-11T00:49:56.508719Z",
     "shell.execute_reply.started": "2021-12-15T11:02:23.174497Z"
    },
    "papermill": {
     "duration": 0.603539,
     "end_time": "2023-02-11T00:49:56.510414",
     "exception": false,
     "start_time": "2023-02-11T00:49:55.906875",
     "status": "completed"
    },
    "tags": []
   },
   "outputs": [],
   "source": [
    "sns.distplot(df['TBG measured'])"
   ]
  },
  {
   "cell_type": "code",
   "execution_count": null,
   "metadata": {
    "execution": {
     "iopub.execute_input": "2023-02-11T00:49:56.701787Z",
     "iopub.status.busy": "2023-02-11T00:49:56.701042Z",
     "iopub.status.idle": "2023-02-11T00:49:57.655983Z",
     "shell.execute_reply": "2023-02-11T00:49:57.655335Z",
     "shell.execute_reply.started": "2021-12-15T11:02:23.507849Z"
    },
    "papermill": {
     "duration": 1.056021,
     "end_time": "2023-02-11T00:49:57.656123",
     "exception": false,
     "start_time": "2023-02-11T00:49:56.600102",
     "status": "completed"
    },
    "tags": []
   },
   "outputs": [],
   "source": [
    "sns.jointplot(x='age', y='TT4', data=df, kind='scatter', height=8, color='m')"
   ]
  },
  {
   "cell_type": "code",
   "execution_count": null,
   "metadata": {
    "execution": {
     "iopub.execute_input": "2023-02-11T00:49:57.830613Z",
     "iopub.status.busy": "2023-02-11T00:49:57.829541Z",
     "iopub.status.idle": "2023-02-11T00:49:59.071281Z",
     "shell.execute_reply": "2023-02-11T00:49:59.070721Z",
     "shell.execute_reply.started": "2021-12-15T11:02:24.383Z"
    },
    "papermill": {
     "duration": 1.331479,
     "end_time": "2023-02-11T00:49:59.071415",
     "exception": false,
     "start_time": "2023-02-11T00:49:57.739936",
     "status": "completed"
    },
    "tags": []
   },
   "outputs": [],
   "source": [
    "sns.jointplot(x='age', y='TT4', data=df, kind='reg', height=8, color='m')"
   ]
  },
  {
   "cell_type": "code",
   "execution_count": null,
   "metadata": {
    "execution": {
     "iopub.execute_input": "2023-02-11T00:49:59.248599Z",
     "iopub.status.busy": "2023-02-11T00:49:59.247559Z",
     "iopub.status.idle": "2023-02-11T00:49:59.578686Z",
     "shell.execute_reply": "2023-02-11T00:49:59.579244Z",
     "shell.execute_reply.started": "2021-12-15T11:02:25.516486Z"
    },
    "papermill": {
     "duration": 0.42111,
     "end_time": "2023-02-11T00:49:59.579403",
     "exception": false,
     "start_time": "2023-02-11T00:49:59.158293",
     "status": "completed"
    },
    "tags": []
   },
   "outputs": [],
   "source": [
    "sns.distplot(df['age'], kde=False, bins=30, color='m')"
   ]
  },
  {
   "cell_type": "code",
   "execution_count": null,
   "metadata": {
    "execution": {
     "iopub.execute_input": "2023-02-11T00:49:59.754706Z",
     "iopub.status.busy": "2023-02-11T00:49:59.753703Z",
     "iopub.status.idle": "2023-02-11T00:49:59.901850Z",
     "shell.execute_reply": "2023-02-11T00:49:59.902501Z",
     "shell.execute_reply.started": "2021-12-15T11:02:25.818671Z"
    },
    "papermill": {
     "duration": 0.237528,
     "end_time": "2023-02-11T00:49:59.902655",
     "exception": false,
     "start_time": "2023-02-11T00:49:59.665127",
     "status": "completed"
    },
    "tags": []
   },
   "outputs": [],
   "source": [
    "sns.countplot(x='binaryClass', data=df, palette='rocket')"
   ]
  },
  {
   "cell_type": "code",
   "execution_count": null,
   "metadata": {
    "execution": {
     "iopub.execute_input": "2023-02-11T00:50:00.085480Z",
     "iopub.status.busy": "2023-02-11T00:50:00.084332Z",
     "iopub.status.idle": "2023-02-11T00:50:00.277002Z",
     "shell.execute_reply": "2023-02-11T00:50:00.276376Z",
     "shell.execute_reply.started": "2021-12-15T11:02:25.962231Z"
    },
    "papermill": {
     "duration": 0.287609,
     "end_time": "2023-02-11T00:50:00.277190",
     "exception": false,
     "start_time": "2023-02-11T00:49:59.989581",
     "status": "completed"
    },
    "tags": []
   },
   "outputs": [],
   "source": [
    "sns.countplot(x='binaryClass', data=df, hue='sex', palette='BuPu')"
   ]
  },
  {
   "cell_type": "code",
   "execution_count": null,
   "metadata": {
    "execution": {
     "iopub.execute_input": "2023-02-11T00:50:00.478053Z",
     "iopub.status.busy": "2023-02-11T00:50:00.465495Z",
     "iopub.status.idle": "2023-02-11T00:50:00.639936Z",
     "shell.execute_reply": "2023-02-11T00:50:00.639359Z",
     "shell.execute_reply.started": "2021-12-15T11:02:26.138981Z"
    },
    "papermill": {
     "duration": 0.271544,
     "end_time": "2023-02-11T00:50:00.640095",
     "exception": false,
     "start_time": "2023-02-11T00:50:00.368551",
     "status": "completed"
    },
    "tags": []
   },
   "outputs": [],
   "source": [
    "sns.stripplot(x=\"binaryClass\", y=\"age\", data=df, palette=\"viridis\")"
   ]
  },
  {
   "cell_type": "code",
   "execution_count": null,
   "metadata": {
    "execution": {
     "iopub.execute_input": "2023-02-11T00:50:00.832545Z",
     "iopub.status.busy": "2023-02-11T00:50:00.826949Z",
     "iopub.status.idle": "2023-02-11T00:50:00.984514Z",
     "shell.execute_reply": "2023-02-11T00:50:00.985241Z",
     "shell.execute_reply.started": "2021-12-15T11:02:26.296291Z"
    },
    "papermill": {
     "duration": 0.253581,
     "end_time": "2023-02-11T00:50:00.985412",
     "exception": false,
     "start_time": "2023-02-11T00:50:00.731831",
     "status": "completed"
    },
    "tags": []
   },
   "outputs": [],
   "source": [
    "sns.boxplot(x='binaryClass', y='age', data=df)"
   ]
  },
  {
   "cell_type": "code",
   "execution_count": null,
   "metadata": {
    "execution": {
     "iopub.execute_input": "2023-02-11T00:50:01.173210Z",
     "iopub.status.busy": "2023-02-11T00:50:01.172463Z",
     "iopub.status.idle": "2023-02-11T00:50:02.293531Z",
     "shell.execute_reply": "2023-02-11T00:50:02.292806Z",
     "shell.execute_reply.started": "2021-12-15T11:02:26.451286Z"
    },
    "papermill": {
     "duration": 1.217772,
     "end_time": "2023-02-11T00:50:02.293677",
     "exception": false,
     "start_time": "2023-02-11T00:50:01.075905",
     "status": "completed"
    },
    "tags": []
   },
   "outputs": [],
   "source": [
    "sns.jointplot(x='FTI', y='binaryClass', data=df, kind='scatter', height=8, color='m')"
   ]
  },
  {
   "cell_type": "code",
   "execution_count": null,
   "metadata": {
    "execution": {
     "iopub.execute_input": "2023-02-11T00:50:02.482551Z",
     "iopub.status.busy": "2023-02-11T00:50:02.481863Z",
     "iopub.status.idle": "2023-02-11T00:50:02.533528Z",
     "shell.execute_reply": "2023-02-11T00:50:02.534093Z",
     "shell.execute_reply.started": "2021-12-15T11:02:27.414156Z"
    },
    "papermill": {
     "duration": 0.148378,
     "end_time": "2023-02-11T00:50:02.534252",
     "exception": false,
     "start_time": "2023-02-11T00:50:02.385874",
     "status": "completed"
    },
    "tags": []
   },
   "outputs": [],
   "source": [
    "df_corr = df.corr()\n",
    "df_corr"
   ]
  },
  {
   "cell_type": "code",
   "execution_count": null,
   "metadata": {
    "execution": {
     "iopub.execute_input": "2023-02-11T00:50:02.788790Z",
     "iopub.status.busy": "2023-02-11T00:50:02.787604Z",
     "iopub.status.idle": "2023-02-11T00:50:05.396338Z",
     "shell.execute_reply": "2023-02-11T00:50:05.396891Z",
     "shell.execute_reply.started": "2021-12-15T11:02:27.462956Z"
    },
    "papermill": {
     "duration": 2.767589,
     "end_time": "2023-02-11T00:50:05.397052",
     "exception": false,
     "start_time": "2023-02-11T00:50:02.629463",
     "status": "completed"
    },
    "tags": []
   },
   "outputs": [],
   "source": [
    "sns.heatmap(df_corr, cmap='viridis', linecolor='k', linewidths=2, annot=True)"
   ]
  },
  {
   "cell_type": "code",
   "execution_count": null,
   "metadata": {
    "execution": {
     "iopub.execute_input": "2023-02-11T00:50:05.610128Z",
     "iopub.status.busy": "2023-02-11T00:50:05.609383Z",
     "iopub.status.idle": "2023-02-11T00:50:05.612417Z",
     "shell.execute_reply": "2023-02-11T00:50:05.611897Z",
     "shell.execute_reply.started": "2021-12-15T11:02:29.957807Z"
    },
    "papermill": {
     "duration": 0.111105,
     "end_time": "2023-02-11T00:50:05.612543",
     "exception": false,
     "start_time": "2023-02-11T00:50:05.501438",
     "status": "completed"
    },
    "tags": []
   },
   "outputs": [],
   "source": [
    "#df.dropna(axis = 0, inplace=True)"
   ]
  },
  {
   "cell_type": "code",
   "execution_count": null,
   "metadata": {
    "execution": {
     "iopub.execute_input": "2023-02-11T00:50:05.822437Z",
     "iopub.status.busy": "2023-02-11T00:50:05.821735Z",
     "iopub.status.idle": "2023-02-11T00:50:05.827714Z",
     "shell.execute_reply": "2023-02-11T00:50:05.828304Z",
     "shell.execute_reply.started": "2021-12-15T11:02:29.977873Z"
    },
    "papermill": {
     "duration": 0.112596,
     "end_time": "2023-02-11T00:50:05.828469",
     "exception": false,
     "start_time": "2023-02-11T00:50:05.715873",
     "status": "completed"
    },
    "tags": []
   },
   "outputs": [],
   "source": [
    "x = df.drop('binaryClass', axis=1)\n",
    "y = df['binaryClass']"
   ]
  },
  {
   "cell_type": "code",
   "execution_count": null,
   "metadata": {
    "execution": {
     "iopub.execute_input": "2023-02-11T00:50:06.039737Z",
     "iopub.status.busy": "2023-02-11T00:50:06.039037Z",
     "iopub.status.idle": "2023-02-11T00:50:06.079606Z",
     "shell.execute_reply": "2023-02-11T00:50:06.078845Z",
     "shell.execute_reply.started": "2021-12-15T11:02:29.993351Z"
    },
    "papermill": {
     "duration": 0.146681,
     "end_time": "2023-02-11T00:50:06.079743",
     "exception": false,
     "start_time": "2023-02-11T00:50:05.933062",
     "status": "completed"
    },
    "tags": []
   },
   "outputs": [],
   "source": [
    "x"
   ]
  },
  {
   "cell_type": "code",
   "execution_count": null,
   "metadata": {
    "execution": {
     "iopub.execute_input": "2023-02-11T00:50:06.298437Z",
     "iopub.status.busy": "2023-02-11T00:50:06.297556Z",
     "iopub.status.idle": "2023-02-11T00:50:06.300505Z",
     "shell.execute_reply": "2023-02-11T00:50:06.301132Z",
     "shell.execute_reply.started": "2021-12-15T11:02:30.040224Z"
    },
    "papermill": {
     "duration": 0.11451,
     "end_time": "2023-02-11T00:50:06.301287",
     "exception": false,
     "start_time": "2023-02-11T00:50:06.186777",
     "status": "completed"
    },
    "tags": []
   },
   "outputs": [],
   "source": [
    "y"
   ]
  },
  {
   "cell_type": "code",
   "execution_count": null,
   "metadata": {
    "execution": {
     "iopub.execute_input": "2023-02-11T00:50:06.536420Z",
     "iopub.status.busy": "2023-02-11T00:50:06.535245Z",
     "iopub.status.idle": "2023-02-11T00:50:06.606883Z",
     "shell.execute_reply": "2023-02-11T00:50:06.607796Z",
     "shell.execute_reply.started": "2021-12-15T11:02:30.047781Z"
    },
    "papermill": {
     "duration": 0.185137,
     "end_time": "2023-02-11T00:50:06.608072",
     "exception": false,
     "start_time": "2023-02-11T00:50:06.422935",
     "status": "completed"
    },
    "tags": []
   },
   "outputs": [],
   "source": [
    "x = sm.add_constant(x)\n",
    "results = sm.OLS(y,x).fit()\n",
    "results.summary()"
   ]
  },
  {
   "cell_type": "code",
   "execution_count": null,
   "metadata": {
    "execution": {
     "iopub.execute_input": "2023-02-11T00:50:06.832615Z",
     "iopub.status.busy": "2023-02-11T00:50:06.831558Z",
     "iopub.status.idle": "2023-02-11T00:50:06.835407Z",
     "shell.execute_reply": "2023-02-11T00:50:06.836039Z",
     "shell.execute_reply.started": "2021-12-15T11:02:30.101277Z"
    },
    "papermill": {
     "duration": 0.118591,
     "end_time": "2023-02-11T00:50:06.836228",
     "exception": false,
     "start_time": "2023-02-11T00:50:06.717637",
     "status": "completed"
    },
    "tags": []
   },
   "outputs": [],
   "source": [
    "from sklearn.model_selection import train_test_split\n",
    "x_train, x_test, y_train, y_test = train_test_split(x, y, test_size=0.25, random_state=42)"
   ]
  },
  {
   "cell_type": "code",
   "execution_count": null,
   "metadata": {
    "execution": {
     "iopub.execute_input": "2023-02-11T00:50:07.050358Z",
     "iopub.status.busy": "2023-02-11T00:50:07.049615Z",
     "iopub.status.idle": "2023-02-11T00:50:07.054781Z",
     "shell.execute_reply": "2023-02-11T00:50:07.055350Z",
     "shell.execute_reply.started": "2021-12-15T11:02:30.110233Z"
    },
    "papermill": {
     "duration": 0.11457,
     "end_time": "2023-02-11T00:50:07.055545",
     "exception": false,
     "start_time": "2023-02-11T00:50:06.940975",
     "status": "completed"
    },
    "tags": []
   },
   "outputs": [],
   "source": [
    "x.shape"
   ]
  },
  {
   "cell_type": "code",
   "execution_count": null,
   "metadata": {
    "execution": {
     "iopub.execute_input": "2023-02-11T00:50:07.274550Z",
     "iopub.status.busy": "2023-02-11T00:50:07.273761Z",
     "iopub.status.idle": "2023-02-11T00:50:07.288669Z",
     "shell.execute_reply": "2023-02-11T00:50:07.288026Z",
     "shell.execute_reply.started": "2021-12-15T11:02:30.125578Z"
    },
    "papermill": {
     "duration": 0.125285,
     "end_time": "2023-02-11T00:50:07.288797",
     "exception": false,
     "start_time": "2023-02-11T00:50:07.163512",
     "status": "completed"
    },
    "tags": []
   },
   "outputs": [],
   "source": [
    "from sklearn.preprocessing import StandardScaler\n",
    "\n",
    "sc = StandardScaler()\n",
    "sc.fit(x_train)\n",
    "x_train = sc.transform(x_train)\n",
    "x_test = sc.transform(x_test)"
   ]
  },
  {
   "cell_type": "code",
   "execution_count": null,
   "outputs": [],
   "source": [
    "!pip3 install --upgrade tensorflow"
   ],
   "metadata": {
    "collapsed": false
   }
  },
  {
   "cell_type": "markdown",
   "metadata": {
    "papermill": {
     "duration": 0.105547,
     "end_time": "2023-02-11T00:50:07.500669",
     "exception": false,
     "start_time": "2023-02-11T00:50:07.395122",
     "status": "completed"
    },
    "tags": []
   },
   "source": [
    "<img src=\"https://lh3.googleusercontent.com/proxy/dmZ-7K8n0tfjlAlmjL316IQymLkEUejTyRJe_PvnpoIvDzoDixx_4L1JmNBYg0xhdyywrCkkjD9F5Snp7PJU8N6RFZ0ke4IO9wMe5c2xbJvC\" width=\"800px\">"
   ]
  },
  {
   "cell_type": "code",
   "execution_count": null,
   "metadata": {
    "execution": {
     "iopub.execute_input": "2023-02-11T00:50:07.717751Z",
     "iopub.status.busy": "2023-02-11T00:50:07.717049Z",
     "iopub.status.idle": "2023-02-11T00:50:13.720992Z",
     "shell.execute_reply": "2023-02-11T00:50:13.719247Z",
     "shell.execute_reply.started": "2021-12-15T11:02:30.14609Z"
    },
    "papermill": {
     "duration": 6.115069,
     "end_time": "2023-02-11T00:50:13.721173",
     "exception": false,
     "start_time": "2023-02-11T00:50:07.606104",
     "status": "completed"
    },
    "tags": []
   },
   "outputs": [],
   "source": [
    "from tensorflow.keras.models import Sequential\n",
    "from tensorflow.keras.layers import Dense, Dropout\n",
    "from tensorflow.keras.optimizers import Adam\n",
    "from tensorflow.keras.callbacks import ReduceLROnPlateau, ModelCheckpoint, EarlyStopping"
   ]
  },
  {
   "cell_type": "code",
   "execution_count": null,
   "metadata": {
    "execution": {
     "iopub.execute_input": "2023-02-11T00:50:13.942690Z",
     "iopub.status.busy": "2023-02-11T00:50:13.941759Z",
     "iopub.status.idle": "2023-02-11T00:50:13.945483Z",
     "shell.execute_reply": "2023-02-11T00:50:13.945942Z",
     "shell.execute_reply.started": "2021-12-15T11:02:30.154187Z"
    },
    "papermill": {
     "duration": 0.116096,
     "end_time": "2023-02-11T00:50:13.946150",
     "exception": false,
     "start_time": "2023-02-11T00:50:13.830054",
     "status": "completed"
    },
    "tags": []
   },
   "outputs": [],
   "source": [
    "x.shape"
   ]
  },
  {
   "cell_type": "code",
   "execution_count": null,
   "metadata": {
    "execution": {
     "iopub.execute_input": "2023-02-11T00:50:14.162993Z",
     "iopub.status.busy": "2023-02-11T00:50:14.162323Z",
     "iopub.status.idle": "2023-02-11T00:50:14.167941Z",
     "shell.execute_reply": "2023-02-11T00:50:14.168767Z",
     "shell.execute_reply.started": "2021-12-15T11:02:30.169562Z"
    },
    "papermill": {
     "duration": 0.117296,
     "end_time": "2023-02-11T00:50:14.168950",
     "exception": false,
     "start_time": "2023-02-11T00:50:14.051654",
     "status": "completed"
    },
    "tags": []
   },
   "outputs": [],
   "source": [
    "x.shape[1]"
   ]
  },
  {
   "cell_type": "code",
   "execution_count": null,
   "metadata": {
    "execution": {
     "iopub.execute_input": "2023-02-11T00:50:14.392477Z",
     "iopub.status.busy": "2023-02-11T00:50:14.391292Z",
     "iopub.status.idle": "2023-02-11T00:50:14.586585Z",
     "shell.execute_reply": "2023-02-11T00:50:14.584942Z",
     "shell.execute_reply.started": "2021-12-15T11:02:30.183056Z"
    },
    "papermill": {
     "duration": 0.31022,
     "end_time": "2023-02-11T00:50:14.586749",
     "exception": false,
     "start_time": "2023-02-11T00:50:14.276529",
     "status": "completed"
    },
    "tags": []
   },
   "outputs": [],
   "source": [
    "model = Sequential()\n",
    "model.add(Dense(256, input_shape=[x.shape[1]], activation='relu'))\n",
    "model.add(Dropout(0.4))\n",
    "model.add(Dense(128, activation='relu'))\n",
    "model.add(Dropout(0.3))\n",
    "model.add(Dense(63, activation='relu'))\n",
    "model.add(Dropout(0.2))\n",
    "\n",
    "model.add(Dense(1, activation='sigmoid'))"
   ]
  },
  {
   "cell_type": "code",
   "execution_count": null,
   "metadata": {
    "execution": {
     "iopub.execute_input": "2023-02-11T00:50:14.802111Z",
     "iopub.status.busy": "2023-02-11T00:50:14.801356Z",
     "iopub.status.idle": "2023-02-11T00:50:14.811577Z",
     "shell.execute_reply": "2023-02-11T00:50:14.812274Z",
     "shell.execute_reply.started": "2021-12-15T11:02:30.264788Z"
    },
    "papermill": {
     "duration": 0.119571,
     "end_time": "2023-02-11T00:50:14.812458",
     "exception": false,
     "start_time": "2023-02-11T00:50:14.692887",
     "status": "completed"
    },
    "tags": []
   },
   "outputs": [],
   "source": [
    "model.summary()"
   ]
  },
  {
   "cell_type": "code",
   "execution_count": null,
   "outputs": [],
   "source": [
    "!pip install pydot"
   ],
   "metadata": {
    "collapsed": false
   }
  },
  {
   "cell_type": "code",
   "execution_count": null,
   "metadata": {
    "execution": {
     "iopub.execute_input": "2023-02-11T00:50:15.032101Z",
     "iopub.status.busy": "2023-02-11T00:50:15.030801Z",
     "iopub.status.idle": "2023-02-11T00:50:15.620632Z",
     "shell.execute_reply": "2023-02-11T00:50:15.621126Z",
     "shell.execute_reply.started": "2021-12-15T11:02:30.277929Z"
    },
    "papermill": {
     "duration": 0.702397,
     "end_time": "2023-02-11T00:50:15.621286",
     "exception": false,
     "start_time": "2023-02-11T00:50:14.918889",
     "status": "completed"
    },
    "tags": []
   },
   "outputs": [],
   "source": [
    "from tensorflow.keras.utils import plot_model\n",
    "from IPython.display import Image\n",
    "plot_model(model, to_file='convnet.png', show_shapes=True,show_layer_names=True)\n",
    "# Image(filename='convnet.png')"
   ]
  },
  {
   "cell_type": "code",
   "execution_count": null,
   "metadata": {
    "execution": {
     "iopub.execute_input": "2023-02-11T00:50:15.848742Z",
     "iopub.status.busy": "2023-02-11T00:50:15.848015Z",
     "iopub.status.idle": "2023-02-11T00:50:15.858324Z",
     "shell.execute_reply": "2023-02-11T00:50:15.858932Z",
     "shell.execute_reply.started": "2021-12-15T11:02:30.422302Z"
    },
    "papermill": {
     "duration": 0.129956,
     "end_time": "2023-02-11T00:50:15.859110",
     "exception": false,
     "start_time": "2023-02-11T00:50:15.729154",
     "status": "completed"
    },
    "tags": []
   },
   "outputs": [],
   "source": [
    "model.compile(optimizer=Adam(), loss='binary_crossentropy', metrics=['accuracy'])"
   ]
  },
  {
   "cell_type": "code",
   "execution_count": null,
   "metadata": {
    "execution": {
     "iopub.execute_input": "2023-02-11T00:50:16.080327Z",
     "iopub.status.busy": "2023-02-11T00:50:16.079542Z",
     "iopub.status.idle": "2023-02-11T00:50:16.085134Z",
     "shell.execute_reply": "2023-02-11T00:50:16.085704Z",
     "shell.execute_reply.started": "2021-12-15T11:02:30.440045Z"
    },
    "papermill": {
     "duration": 0.117034,
     "end_time": "2023-02-11T00:50:16.085861",
     "exception": false,
     "start_time": "2023-02-11T00:50:15.968827",
     "status": "completed"
    },
    "tags": []
   },
   "outputs": [],
   "source": [
    "lrd = ReduceLROnPlateau(monitor = 'val_loss',\n",
    "                         patience = 20,\n",
    "                         verbose = 1,\n",
    "                         factor = 0.75,\n",
    "                         min_lr = 1e-10)\n",
    "\n",
    "mcp = ModelCheckpoint('model.h5')\n",
    "\n",
    "es = EarlyStopping(verbose=1, patience=20)"
   ]
  },
  {
   "cell_type": "code",
   "execution_count": null,
   "metadata": {
    "execution": {
     "iopub.execute_input": "2023-02-11T00:50:16.307652Z",
     "iopub.status.busy": "2023-02-11T00:50:16.306919Z",
     "iopub.status.idle": "2023-02-11T00:50:29.301399Z",
     "shell.execute_reply": "2023-02-11T00:50:29.300575Z",
     "shell.execute_reply.started": "2021-12-15T11:02:30.451006Z"
    },
    "papermill": {
     "duration": 13.105964,
     "end_time": "2023-02-11T00:50:29.301583",
     "exception": false,
     "start_time": "2023-02-11T00:50:16.195619",
     "status": "completed"
    },
    "tags": []
   },
   "outputs": [],
   "source": [
    "%%time\n",
    "history = model.fit(x=x_train, y=y_train, epochs=100, callbacks=[lrd, mcp, es], batch_size=64, validation_split=0.1)\n"
   ]
  },
  {
   "cell_type": "code",
   "execution_count": null,
   "metadata": {
    "execution": {
     "iopub.execute_input": "2023-02-11T00:50:29.675110Z",
     "iopub.status.busy": "2023-02-11T00:50:29.674421Z",
     "iopub.status.idle": "2023-02-11T00:50:29.760922Z",
     "shell.execute_reply": "2023-02-11T00:50:29.760360Z",
     "shell.execute_reply.started": "2021-12-15T11:02:40.861451Z"
    },
    "papermill": {
     "duration": 0.273696,
     "end_time": "2023-02-11T00:50:29.761058",
     "exception": false,
     "start_time": "2023-02-11T00:50:29.487362",
     "status": "completed"
    },
    "tags": []
   },
   "outputs": [],
   "source": [
    "model.evaluate(x_test, y_test)"
   ]
  },
  {
   "cell_type": "code",
   "execution_count": null,
   "metadata": {
    "execution": {
     "iopub.execute_input": "2023-02-11T00:50:30.137749Z",
     "iopub.status.busy": "2023-02-11T00:50:30.136692Z",
     "iopub.status.idle": "2023-02-11T00:50:30.299766Z",
     "shell.execute_reply": "2023-02-11T00:50:30.300307Z",
     "shell.execute_reply.started": "2021-12-15T11:02:40.942176Z"
    },
    "papermill": {
     "duration": 0.355008,
     "end_time": "2023-02-11T00:50:30.300462",
     "exception": false,
     "start_time": "2023-02-11T00:50:29.945454",
     "status": "completed"
    },
    "tags": []
   },
   "outputs": [],
   "source": [
    "y_pred = model.predict(x_test)\n",
    "y_pred"
   ]
  },
  {
   "cell_type": "code",
   "execution_count": null,
   "metadata": {
    "execution": {
     "iopub.execute_input": "2023-02-11T00:50:30.676911Z",
     "iopub.status.busy": "2023-02-11T00:50:30.676248Z",
     "iopub.status.idle": "2023-02-11T00:50:30.683437Z",
     "shell.execute_reply": "2023-02-11T00:50:30.682751Z",
     "shell.execute_reply.started": "2021-12-15T11:02:41.069376Z"
    },
    "papermill": {
     "duration": 0.195961,
     "end_time": "2023-02-11T00:50:30.683576",
     "exception": false,
     "start_time": "2023-02-11T00:50:30.487615",
     "status": "completed"
    },
    "tags": []
   },
   "outputs": [],
   "source": [
    "y_pred[1]"
   ]
  },
  {
   "cell_type": "code",
   "execution_count": null,
   "metadata": {
    "execution": {
     "iopub.execute_input": "2023-02-11T00:50:31.072912Z",
     "iopub.status.busy": "2023-02-11T00:50:31.072131Z",
     "iopub.status.idle": "2023-02-11T00:50:31.076273Z",
     "shell.execute_reply": "2023-02-11T00:50:31.075732Z",
     "shell.execute_reply.started": "2021-12-15T11:02:41.077141Z"
    },
    "papermill": {
     "duration": 0.206582,
     "end_time": "2023-02-11T00:50:31.076405",
     "exception": false,
     "start_time": "2023-02-11T00:50:30.869823",
     "status": "completed"
    },
    "tags": []
   },
   "outputs": [],
   "source": [
    "y_test"
   ]
  },
  {
   "cell_type": "code",
   "execution_count": null,
   "metadata": {
    "execution": {
     "iopub.execute_input": "2023-02-11T00:50:31.460269Z",
     "iopub.status.busy": "2023-02-11T00:50:31.459529Z",
     "iopub.status.idle": "2023-02-11T00:50:31.545601Z",
     "shell.execute_reply": "2023-02-11T00:50:31.546151Z",
     "shell.execute_reply.started": "2021-12-15T11:02:41.09585Z"
    },
    "papermill": {
     "duration": 0.280896,
     "end_time": "2023-02-11T00:50:31.546309",
     "exception": false,
     "start_time": "2023-02-11T00:50:31.265413",
     "status": "completed"
    },
    "tags": []
   },
   "outputs": [],
   "source": [
    "%%time\n",
    "model.evaluate(x_test, y_test)"
   ]
  },
  {
   "cell_type": "code",
   "execution_count": null,
   "metadata": {
    "execution": {
     "iopub.execute_input": "2023-02-11T00:50:31.929457Z",
     "iopub.status.busy": "2023-02-11T00:50:31.928442Z",
     "iopub.status.idle": "2023-02-11T00:50:31.995623Z",
     "shell.execute_reply": "2023-02-11T00:50:31.996247Z",
     "shell.execute_reply.started": "2021-12-15T11:02:41.193728Z"
    },
    "papermill": {
     "duration": 0.259293,
     "end_time": "2023-02-11T00:50:31.996419",
     "exception": false,
     "start_time": "2023-02-11T00:50:31.737126",
     "status": "completed"
    },
    "tags": []
   },
   "outputs": [],
   "source": [
    "model.predict(x_test)[50]"
   ]
  },
  {
   "cell_type": "code",
   "execution_count": null,
   "metadata": {
    "execution": {
     "iopub.execute_input": "2023-02-11T00:50:32.388575Z",
     "iopub.status.busy": "2023-02-11T00:50:32.387529Z",
     "iopub.status.idle": "2023-02-11T00:50:32.466730Z",
     "shell.execute_reply": "2023-02-11T00:50:32.466049Z",
     "shell.execute_reply.started": "2021-12-15T11:02:41.267246Z"
    },
    "papermill": {
     "duration": 0.282327,
     "end_time": "2023-02-11T00:50:32.466857",
     "exception": false,
     "start_time": "2023-02-11T00:50:32.184530",
     "status": "completed"
    },
    "tags": []
   },
   "outputs": [],
   "source": [
    "# model.predict_classes(x_test)[50]\n",
    "predict_x=model.predict(x_test)[50]\n",
    "classes_x=np.argmax(predict_x)"
   ]
  },
  {
   "cell_type": "code",
   "execution_count": null,
   "metadata": {
    "execution": {
     "iopub.execute_input": "2023-02-11T00:50:32.846284Z",
     "iopub.status.busy": "2023-02-11T00:50:32.845621Z",
     "iopub.status.idle": "2023-02-11T00:50:32.850733Z",
     "shell.execute_reply": "2023-02-11T00:50:32.851355Z",
     "shell.execute_reply.started": "2021-12-15T11:02:41.334484Z"
    },
    "papermill": {
     "duration": 0.196295,
     "end_time": "2023-02-11T00:50:32.851506",
     "exception": false,
     "start_time": "2023-02-11T00:50:32.655211",
     "status": "completed"
    },
    "tags": []
   },
   "outputs": [],
   "source": [
    "y_test.iloc[50]"
   ]
  },
  {
   "cell_type": "code",
   "execution_count": null,
   "metadata": {
    "execution": {
     "iopub.execute_input": "2023-02-11T00:50:33.231092Z",
     "iopub.status.busy": "2023-02-11T00:50:33.230353Z",
     "iopub.status.idle": "2023-02-11T00:50:33.291835Z",
     "shell.execute_reply": "2023-02-11T00:50:33.292566Z",
     "shell.execute_reply.started": "2021-12-15T11:02:41.341158Z"
    },
    "papermill": {
     "duration": 0.253886,
     "end_time": "2023-02-11T00:50:33.292782",
     "exception": false,
     "start_time": "2023-02-11T00:50:33.038896",
     "status": "completed"
    },
    "tags": []
   },
   "outputs": [],
   "source": [
    "model.predict(x_test)[70]"
   ]
  },
  {
   "cell_type": "code",
   "execution_count": null,
   "metadata": {
    "execution": {
     "iopub.execute_input": "2023-02-11T00:50:33.672046Z",
     "iopub.status.busy": "2023-02-11T00:50:33.671410Z",
     "iopub.status.idle": "2023-02-11T00:50:33.735479Z",
     "shell.execute_reply": "2023-02-11T00:50:33.734809Z",
     "shell.execute_reply.started": "2021-12-15T11:02:41.415686Z"
    },
    "papermill": {
     "duration": 0.254141,
     "end_time": "2023-02-11T00:50:33.735611",
     "exception": false,
     "start_time": "2023-02-11T00:50:33.481470",
     "status": "completed"
    },
    "tags": []
   },
   "outputs": [],
   "source": [
    "model.predict_classes(x_test)[70]"
   ]
  },
  {
   "cell_type": "code",
   "execution_count": null,
   "metadata": {
    "execution": {
     "iopub.execute_input": "2023-02-11T00:50:34.122447Z",
     "iopub.status.busy": "2023-02-11T00:50:34.121691Z",
     "iopub.status.idle": "2023-02-11T00:50:34.126637Z",
     "shell.execute_reply": "2023-02-11T00:50:34.125699Z",
     "shell.execute_reply.started": "2021-12-15T11:02:41.480264Z"
    },
    "papermill": {
     "duration": 0.199835,
     "end_time": "2023-02-11T00:50:34.126773",
     "exception": false,
     "start_time": "2023-02-11T00:50:33.926938",
     "status": "completed"
    },
    "tags": []
   },
   "outputs": [],
   "source": [
    "y_test.iloc[70]"
   ]
  },
  {
   "cell_type": "code",
   "execution_count": null,
   "metadata": {
    "execution": {
     "iopub.execute_input": "2023-02-11T00:50:34.517026Z",
     "iopub.status.busy": "2023-02-11T00:50:34.516314Z",
     "iopub.status.idle": "2023-02-11T00:50:34.566240Z",
     "shell.execute_reply": "2023-02-11T00:50:34.565518Z",
     "shell.execute_reply.started": "2021-12-15T11:02:41.48924Z"
    },
    "papermill": {
     "duration": 0.243805,
     "end_time": "2023-02-11T00:50:34.566374",
     "exception": false,
     "start_time": "2023-02-11T00:50:34.322569",
     "status": "completed"
    },
    "tags": []
   },
   "outputs": [],
   "source": [
    "model.predict(sc.transform([[42.1,0,0,0,0,0,0,0,0,0,0,0,0,0,0,0,1.00,132,1.00,1.00,109.0,1.0,0.88,.100,110.00,0.00,0,1]]))"
   ]
  },
  {
   "cell_type": "code",
   "execution_count": null,
   "metadata": {
    "execution": {
     "iopub.execute_input": "2023-02-11T00:50:34.955859Z",
     "iopub.status.busy": "2023-02-11T00:50:34.954728Z",
     "iopub.status.idle": "2023-02-11T00:50:35.583742Z",
     "shell.execute_reply": "2023-02-11T00:50:35.584317Z",
     "shell.execute_reply.started": "2021-12-15T11:02:41.54702Z"
    },
    "papermill": {
     "duration": 0.828783,
     "end_time": "2023-02-11T00:50:35.584492",
     "exception": false,
     "start_time": "2023-02-11T00:50:34.755709",
     "status": "completed"
    },
    "tags": []
   },
   "outputs": [],
   "source": [
    "# summarize history for loss\n",
    "plt.plot(history.history['loss'])\n",
    "plt.plot(history.history['val_loss'])\n",
    "plt.title('model loss')\n",
    "plt.ylabel('loss')\n",
    "plt.xlabel('epoch')\n",
    "\n",
    "plt.legend(['train', 'test'], loc='upper left')\n",
    "plt.show()\n",
    "\n",
    "# # summarize history for accuracy\n",
    "plt.plot(history.history['accuracy'])\n",
    "plt.plot(history.history['val_accuracy'])\n",
    "plt.title('model accuracy')\n",
    "plt.ylabel('accuracy')\n",
    "plt.xlabel('epoch')\n",
    "plt.legend(['train', 'test'], loc='upper right')\n",
    "plt.show()"
   ]
  },
  {
   "cell_type": "code",
   "execution_count": null,
   "metadata": {
    "execution": {
     "iopub.execute_input": "2023-02-11T00:50:35.978746Z",
     "iopub.status.busy": "2023-02-11T00:50:35.976295Z",
     "iopub.status.idle": "2023-02-11T00:50:35.999375Z",
     "shell.execute_reply": "2023-02-11T00:50:35.998557Z",
     "shell.execute_reply.started": "2021-12-15T11:02:42.144094Z"
    },
    "papermill": {
     "duration": 0.224427,
     "end_time": "2023-02-11T00:50:35.999522",
     "exception": false,
     "start_time": "2023-02-11T00:50:35.775095",
     "status": "completed"
    },
    "tags": []
   },
   "outputs": [],
   "source": [
    "model.save('model.h5')"
   ]
  },
  {
   "cell_type": "code",
   "execution_count": null,
   "metadata": {
    "execution": {
     "iopub.execute_input": "2023-02-11T00:50:36.394862Z",
     "iopub.status.busy": "2023-02-11T00:50:36.394183Z",
     "iopub.status.idle": "2023-02-11T00:50:36.396955Z",
     "shell.execute_reply": "2023-02-11T00:50:36.396447Z",
     "shell.execute_reply.started": "2021-12-15T11:02:42.174295Z"
    },
    "papermill": {
     "duration": 0.204371,
     "end_time": "2023-02-11T00:50:36.397094",
     "exception": false,
     "start_time": "2023-02-11T00:50:36.192723",
     "status": "completed"
    },
    "tags": []
   },
   "outputs": [],
   "source": [
    "import joblib"
   ]
  },
  {
   "cell_type": "code",
   "execution_count": null,
   "metadata": {
    "execution": {
     "iopub.execute_input": "2023-02-11T00:50:36.791206Z",
     "iopub.status.busy": "2023-02-11T00:50:36.790422Z",
     "iopub.status.idle": "2023-02-11T00:50:36.794731Z",
     "shell.execute_reply": "2023-02-11T00:50:36.794065Z",
     "shell.execute_reply.started": "2021-12-15T11:02:42.180072Z"
    },
    "papermill": {
     "duration": 0.206334,
     "end_time": "2023-02-11T00:50:36.794855",
     "exception": false,
     "start_time": "2023-02-11T00:50:36.588521",
     "status": "completed"
    },
    "tags": []
   },
   "outputs": [],
   "source": [
    "joblib.dump(sc, 'scaler.pkl')"
   ]
  },
  {
   "cell_type": "code",
   "execution_count": null,
   "metadata": {
    "execution": {
     "iopub.execute_input": "2023-02-11T00:50:37.184751Z",
     "iopub.status.busy": "2023-02-11T00:50:37.184015Z",
     "iopub.status.idle": "2023-02-11T00:50:37.187219Z",
     "shell.execute_reply": "2023-02-11T00:50:37.186548Z",
     "shell.execute_reply.started": "2021-12-15T11:02:42.197846Z"
    },
    "papermill": {
     "duration": 0.200133,
     "end_time": "2023-02-11T00:50:37.187395",
     "exception": false,
     "start_time": "2023-02-11T00:50:36.987262",
     "status": "completed"
    },
    "tags": []
   },
   "outputs": [],
   "source": [
    "sc = joblib.load('scaler.pkl')"
   ]
  },
  {
   "cell_type": "code",
   "execution_count": null,
   "metadata": {
    "execution": {
     "iopub.execute_input": "2023-02-11T00:50:37.594639Z",
     "iopub.status.busy": "2023-02-11T00:50:37.593944Z",
     "iopub.status.idle": "2023-02-11T00:50:37.779770Z",
     "shell.execute_reply": "2023-02-11T00:50:37.780403Z"
    },
    "papermill": {
     "duration": 0.396684,
     "end_time": "2023-02-11T00:50:37.780609",
     "exception": false,
     "start_time": "2023-02-11T00:50:37.383925",
     "status": "completed"
    },
    "tags": []
   },
   "outputs": [],
   "source": [
    "%%time\n",
    "from tensorflow.keras.models import load_model\n",
    "model = load_model('model.h5')\n",
    "model.predict(sc.transform([[42.1,0,0,0,0,0,0,0,0,0,0,0,0,0,0,0,1.00,132,1.00,1.00,109.0,1.0,0.88,.100,110.00,0.00,0,1]]))"
   ]
  },
  {
   "cell_type": "code",
   "execution_count": null,
   "outputs": [],
   "source": [],
   "metadata": {
    "collapsed": false
   }
  }
 ],
 "metadata": {
  "kernelspec": {
   "display_name": "Python 3",
   "language": "python",
   "name": "python3"
  },
  "language_info": {
   "codemirror_mode": {
    "name": "ipython",
    "version": 3
   },
   "file_extension": ".py",
   "mimetype": "text/x-python",
   "name": "python",
   "nbconvert_exporter": "python",
   "pygments_lexer": "ipython3",
   "version": "3.7.6"
  },
  "papermill": {
   "duration": 58.971168,
   "end_time": "2023-02-11T00:50:38.081536",
   "environment_variables": {},
   "exception": null,
   "input_path": "__notebook__.ipynb",
   "output_path": "__notebook__.ipynb",
   "parameters": {},
   "start_time": "2023-02-11T00:49:39.110368",
   "version": "2.1.0"
  }
 },
 "nbformat": 4,
 "nbformat_minor": 4
}
